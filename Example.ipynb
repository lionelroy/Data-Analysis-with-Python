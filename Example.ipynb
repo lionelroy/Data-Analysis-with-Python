{
 "cells": [
  {
   "cell_type": "markdown",
   "id": "8495af12",
   "metadata": {},
   "source": [
    "# Intro to Python and Jupiter "
   ]
  },
  {
   "cell_type": "markdown",
   "id": "49fac462",
   "metadata": {},
   "source": [
    "##### Note: use underscores instead of cameCase with Python."
   ]
  },
  {
   "cell_type": "markdown",
   "id": "328df3eb",
   "metadata": {},
   "source": [
    "### 1 - Hello World"
   ]
  },
  {
   "cell_type": "code",
   "execution_count": 23,
   "id": "4563498a",
   "metadata": {},
   "outputs": [
    {
     "data": {
      "text/plain": [
       "'Hello World!'"
      ]
     },
     "execution_count": 23,
     "metadata": {},
     "output_type": "execute_result"
    }
   ],
   "source": [
    "\"Hello World!\""
   ]
  },
  {
   "cell_type": "code",
   "execution_count": 19,
   "id": "343ab823",
   "metadata": {},
   "outputs": [
    {
     "name": "stdout",
     "output_type": "stream",
     "text": [
      "Roy\n"
     ]
    }
   ],
   "source": [
    "print(\"Roy\")"
   ]
  },
  {
   "cell_type": "code",
   "execution_count": 22,
   "id": "14d39584",
   "metadata": {},
   "outputs": [
    {
     "name": "stdout",
     "output_type": "stream",
     "text": [
      "4\n"
     ]
    }
   ],
   "source": [
    "# test comment\n",
    "print(4)"
   ]
  },
  {
   "cell_type": "markdown",
   "id": "cf9b9ad3",
   "metadata": {},
   "source": [
    "### 2 - Data Types"
   ]
  },
  {
   "cell_type": "code",
   "execution_count": 24,
   "id": "c9314875",
   "metadata": {},
   "outputs": [
    {
     "data": {
      "text/plain": [
       "int"
      ]
     },
     "execution_count": 24,
     "metadata": {},
     "output_type": "execute_result"
    }
   ],
   "source": [
    "type(1)"
   ]
  },
  {
   "cell_type": "code",
   "execution_count": 25,
   "id": "38b50468",
   "metadata": {},
   "outputs": [
    {
     "data": {
      "text/plain": [
       "float"
      ]
     },
     "execution_count": 25,
     "metadata": {},
     "output_type": "execute_result"
    }
   ],
   "source": [
    "type(2.7)"
   ]
  },
  {
   "cell_type": "code",
   "execution_count": 27,
   "id": "b983c8c7",
   "metadata": {},
   "outputs": [
    {
     "data": {
      "text/plain": [
       "bool"
      ]
     },
     "execution_count": 27,
     "metadata": {},
     "output_type": "execute_result"
    }
   ],
   "source": [
    "type(True)"
   ]
  },
  {
   "cell_type": "code",
   "execution_count": 28,
   "id": "f3067905",
   "metadata": {},
   "outputs": [
    {
     "data": {
      "text/plain": [
       "str"
      ]
     },
     "execution_count": 28,
     "metadata": {},
     "output_type": "execute_result"
    }
   ],
   "source": [
    "type(\"Tiffany\")"
   ]
  },
  {
   "cell_type": "markdown",
   "id": "cf032c1e",
   "metadata": {},
   "source": [
    "### 3 - Methods"
   ]
  },
  {
   "cell_type": "code",
   "execution_count": 32,
   "id": "75644c3b",
   "metadata": {},
   "outputs": [
    {
     "data": {
      "text/plain": [
       "'HELLO WORLD'"
      ]
     },
     "execution_count": 32,
     "metadata": {},
     "output_type": "execute_result"
    }
   ],
   "source": [
    "\"Hello World\".upper()"
   ]
  },
  {
   "cell_type": "code",
   "execution_count": 33,
   "id": "9d7ba7bd",
   "metadata": {},
   "outputs": [
    {
     "data": {
      "text/plain": [
       "'hello world'"
      ]
     },
     "execution_count": 33,
     "metadata": {},
     "output_type": "execute_result"
    }
   ],
   "source": [
    "\"Hello World\".lower()"
   ]
  },
  {
   "cell_type": "code",
   "execution_count": 36,
   "id": "44b1e077",
   "metadata": {},
   "outputs": [
    {
     "data": {
      "text/plain": [
       "'Hello World'"
      ]
     },
     "execution_count": 36,
     "metadata": {},
     "output_type": "execute_result"
    }
   ],
   "source": [
    "\"hello World\".title()"
   ]
  },
  {
   "cell_type": "code",
   "execution_count": 41,
   "id": "00223cd4",
   "metadata": {},
   "outputs": [
    {
     "data": {
      "text/plain": [
       "3"
      ]
     },
     "execution_count": 41,
     "metadata": {},
     "output_type": "execute_result"
    }
   ],
   "source": [
    "\"Hello World\".count('l')"
   ]
  },
  {
   "cell_type": "code",
   "execution_count": 43,
   "id": "2e315dd0",
   "metadata": {},
   "outputs": [
    {
     "data": {
      "text/plain": [
       "'He55o Wor5d'"
      ]
     },
     "execution_count": 43,
     "metadata": {},
     "output_type": "execute_result"
    }
   ],
   "source": [
    "\"Hello World\".replace('l', '5')"
   ]
  },
  {
   "cell_type": "markdown",
   "id": "261265af",
   "metadata": {},
   "source": [
    "### 4 - Variables"
   ]
  },
  {
   "cell_type": "code",
   "execution_count": 49,
   "id": "232c40c4",
   "metadata": {},
   "outputs": [
    {
     "name": "stdout",
     "output_type": "stream",
     "text": [
      "I'm learning Python\n"
     ]
    }
   ],
   "source": [
    "message_1 = \"I'm learning Python\"\n",
    "print(message_1)"
   ]
  },
  {
   "cell_type": "code",
   "execution_count": 50,
   "id": "56799e39",
   "metadata": {},
   "outputs": [
    {
     "data": {
      "text/plain": [
       "\"I'm learning Python\""
      ]
     },
     "execution_count": 50,
     "metadata": {},
     "output_type": "execute_result"
    }
   ],
   "source": [
    "message_1"
   ]
  },
  {
   "cell_type": "code",
   "execution_count": 59,
   "id": "21cc4ef3",
   "metadata": {},
   "outputs": [
    {
     "name": "stdout",
     "output_type": "stream",
     "text": [
      "and I love it!\n"
     ]
    }
   ],
   "source": [
    "message_2 = \"and I love it!\"\n",
    "print(message_2)"
   ]
  },
  {
   "cell_type": "code",
   "execution_count": 61,
   "id": "94fd1b32",
   "metadata": {},
   "outputs": [
    {
     "name": "stdout",
     "output_type": "stream",
     "text": [
      "I'm learning Python and I love it!\n"
     ]
    }
   ],
   "source": [
    "stringConcatination = message_1 + \" \" + message_2\n",
    "print(stringConcatination)"
   ]
  },
  {
   "cell_type": "code",
   "execution_count": 66,
   "id": "6fca06b7",
   "metadata": {},
   "outputs": [
    {
     "data": {
      "text/plain": [
       "\"I'm learning Python THIS PART WILL ALSO APPEAR IN THE CONCATINATED STRING and I love it!\""
      ]
     },
     "execution_count": 66,
     "metadata": {},
     "output_type": "execute_result"
    }
   ],
   "source": [
    "# f string\n",
    "f'{message_1} THIS PART WILL ALSO APPEAR IN THE CONCATINATED STRING {message_2}'"
   ]
  },
  {
   "cell_type": "markdown",
   "id": "5537c03c",
   "metadata": {},
   "source": [
    "### 5 - Lists"
   ]
  },
  {
   "cell_type": "code",
   "execution_count": 169,
   "id": "17aeeba6",
   "metadata": {},
   "outputs": [],
   "source": [
    "countries = ['Canada', 'United States', 'India', 'Brazil']"
   ]
  },
  {
   "cell_type": "code",
   "execution_count": 170,
   "id": "2a776a8f",
   "metadata": {},
   "outputs": [
    {
     "data": {
      "text/plain": [
       "['Canada', 'United States', 'India', 'Brazil']"
      ]
     },
     "execution_count": 170,
     "metadata": {},
     "output_type": "execute_result"
    }
   ],
   "source": [
    "countries"
   ]
  },
  {
   "cell_type": "code",
   "execution_count": 171,
   "id": "cab6e3a0",
   "metadata": {},
   "outputs": [
    {
     "name": "stdout",
     "output_type": "stream",
     "text": [
      "Canada\n",
      "United States\n",
      "India\n",
      "Brazil\n"
     ]
    }
   ],
   "source": [
    "# Indexing\n",
    "print(countries[0])\n",
    "print(countries[1])\n",
    "print(countries[2])\n",
    "print(countries[3])"
   ]
  },
  {
   "cell_type": "code",
   "execution_count": 172,
   "id": "5fc713c4",
   "metadata": {},
   "outputs": [
    {
     "name": "stdout",
     "output_type": "stream",
     "text": [
      "Brazil\n",
      "India\n",
      "United States\n",
      "Canada\n"
     ]
    }
   ],
   "source": [
    "# Negative Indexing\n",
    "print(countries[-1])\n",
    "print(countries[-2])\n",
    "print(countries[-3])\n",
    "print(countries[-4])"
   ]
  },
  {
   "cell_type": "code",
   "execution_count": 173,
   "id": "2fd89b88",
   "metadata": {},
   "outputs": [
    {
     "name": "stdout",
     "output_type": "stream",
     "text": [
      "['Canada', 'United States', 'India']\n",
      "['India']\n",
      "['United States', 'India', 'Brazil']\n",
      "['Canada', 'United States']\n",
      "['Brazil']\n"
     ]
    }
   ],
   "source": [
    "# Slicing\n",
    "# list_name[start:stop]\n",
    "print(countries[0:3])\n",
    "print(countries[2:3])\n",
    "print(countries[1:4])\n",
    "print(countries[:2])\n",
    "print(countries[3:])"
   ]
  },
  {
   "cell_type": "markdown",
   "id": "7a2c9612",
   "metadata": {},
   "source": [
    "### 6 - Adding elements to a list"
   ]
  },
  {
   "cell_type": "code",
   "execution_count": 174,
   "id": "63a3f30e",
   "metadata": {},
   "outputs": [
    {
     "data": {
      "text/plain": [
       "['Canada', 'United States', 'India', 'Brazil']"
      ]
     },
     "execution_count": 174,
     "metadata": {},
     "output_type": "execute_result"
    }
   ],
   "source": [
    "countries"
   ]
  },
  {
   "cell_type": "code",
   "execution_count": 175,
   "id": "9d4c988c",
   "metadata": {},
   "outputs": [],
   "source": [
    "countries.append('Japan')"
   ]
  },
  {
   "cell_type": "code",
   "execution_count": 176,
   "id": "99f10d48",
   "metadata": {},
   "outputs": [
    {
     "data": {
      "text/plain": [
       "['Canada', 'United States', 'India', 'Brazil', 'Japan']"
      ]
     },
     "execution_count": 176,
     "metadata": {},
     "output_type": "execute_result"
    }
   ],
   "source": [
    "countries"
   ]
  },
  {
   "cell_type": "code",
   "execution_count": 177,
   "id": "4bacd879",
   "metadata": {},
   "outputs": [],
   "source": [
    "countries.insert(0, 'Spain')"
   ]
  },
  {
   "cell_type": "code",
   "execution_count": 178,
   "id": "60d7beb9",
   "metadata": {},
   "outputs": [
    {
     "data": {
      "text/plain": [
       "['Spain', 'Canada', 'United States', 'India', 'Brazil', 'Japan']"
      ]
     },
     "execution_count": 178,
     "metadata": {},
     "output_type": "execute_result"
    }
   ],
   "source": [
    "countries"
   ]
  },
  {
   "cell_type": "code",
   "execution_count": 179,
   "id": "26c65ec6",
   "metadata": {},
   "outputs": [],
   "source": [
    "countries_2 = ['UK', 'Germany', 'Austria']"
   ]
  },
  {
   "cell_type": "code",
   "execution_count": 180,
   "id": "c43b8bda",
   "metadata": {},
   "outputs": [
    {
     "data": {
      "text/plain": [
       "['Spain',\n",
       " 'Canada',\n",
       " 'United States',\n",
       " 'India',\n",
       " 'Brazil',\n",
       " 'Japan',\n",
       " 'UK',\n",
       " 'Germany',\n",
       " 'Austria']"
      ]
     },
     "execution_count": 180,
     "metadata": {},
     "output_type": "execute_result"
    }
   ],
   "source": [
    "countries + countries_2"
   ]
  },
  {
   "cell_type": "code",
   "execution_count": 181,
   "id": "6745561f",
   "metadata": {},
   "outputs": [],
   "source": [
    "# nested list\n",
    "nested_list = [countries, countries_2]"
   ]
  },
  {
   "cell_type": "code",
   "execution_count": 183,
   "id": "9f436327",
   "metadata": {},
   "outputs": [
    {
     "data": {
      "text/plain": [
       "[['Spain', 'Canada', 'United States', 'India', 'Brazil', 'Japan'],\n",
       " ['UK', 'Germany', 'Austria']]"
      ]
     },
     "execution_count": 183,
     "metadata": {},
     "output_type": "execute_result"
    }
   ],
   "source": [
    "nested_list"
   ]
  },
  {
   "cell_type": "markdown",
   "id": "4a58988b",
   "metadata": {},
   "source": [
    "### 7 - Removing elements from a list"
   ]
  },
  {
   "cell_type": "code",
   "execution_count": 184,
   "id": "52ce1e2a",
   "metadata": {},
   "outputs": [
    {
     "data": {
      "text/plain": [
       "['Spain', 'Canada', 'United States', 'India', 'Brazil', 'Japan']"
      ]
     },
     "execution_count": 184,
     "metadata": {},
     "output_type": "execute_result"
    }
   ],
   "source": [
    "countries"
   ]
  },
  {
   "cell_type": "code",
   "execution_count": 188,
   "id": "1fb94b3d",
   "metadata": {},
   "outputs": [
    {
     "ename": "ValueError",
     "evalue": "list.remove(x): x not in list",
     "output_type": "error",
     "traceback": [
      "\u001b[1;31m---------------------------------------------------------------------------\u001b[0m",
      "\u001b[1;31mValueError\u001b[0m                                Traceback (most recent call last)",
      "\u001b[1;32m~\\AppData\\Local\\Temp/ipykernel_8368/4176361507.py\u001b[0m in \u001b[0;36m<module>\u001b[1;34m\u001b[0m\n\u001b[1;32m----> 1\u001b[1;33m \u001b[0mcountries\u001b[0m\u001b[1;33m.\u001b[0m\u001b[0mremove\u001b[0m\u001b[1;33m(\u001b[0m\u001b[1;34m'United States'\u001b[0m\u001b[1;33m)\u001b[0m\u001b[1;33m\u001b[0m\u001b[1;33m\u001b[0m\u001b[0m\n\u001b[0m",
      "\u001b[1;31mValueError\u001b[0m: list.remove(x): x not in list"
     ]
    }
   ],
   "source": [
    "countries.remove('United States')"
   ]
  },
  {
   "cell_type": "code",
   "execution_count": 189,
   "id": "e08c1235",
   "metadata": {},
   "outputs": [
    {
     "data": {
      "text/plain": [
       "'Japan'"
      ]
     },
     "execution_count": 189,
     "metadata": {},
     "output_type": "execute_result"
    }
   ],
   "source": [
    "countries.pop(-1)"
   ]
  },
  {
   "cell_type": "code",
   "execution_count": 190,
   "id": "49868e89",
   "metadata": {},
   "outputs": [
    {
     "data": {
      "text/plain": [
       "['Spain', 'Canada', 'India', 'Brazil']"
      ]
     },
     "execution_count": 190,
     "metadata": {},
     "output_type": "execute_result"
    }
   ],
   "source": [
    "countries"
   ]
  },
  {
   "cell_type": "code",
   "execution_count": 191,
   "id": "6fb0f56d",
   "metadata": {},
   "outputs": [],
   "source": [
    "# del function\n",
    "del countries[0]"
   ]
  },
  {
   "cell_type": "code",
   "execution_count": 192,
   "id": "435a130f",
   "metadata": {},
   "outputs": [
    {
     "data": {
      "text/plain": [
       "['Canada', 'India', 'Brazil']"
      ]
     },
     "execution_count": 192,
     "metadata": {},
     "output_type": "execute_result"
    }
   ],
   "source": [
    "countries"
   ]
  },
  {
   "cell_type": "markdown",
   "id": "be75363b",
   "metadata": {},
   "source": [
    "### 8 - Sorting a list"
   ]
  },
  {
   "cell_type": "code",
   "execution_count": 199,
   "id": "b1c05e79",
   "metadata": {},
   "outputs": [],
   "source": [
    "godinManufacturing = ['2 - Godin', '4 - Seagull', '1 - Norman', '5 - Simon & Patrick', '3 - Art & Lutherie']"
   ]
  },
  {
   "cell_type": "code",
   "execution_count": 200,
   "id": "8bc0abd7",
   "metadata": {},
   "outputs": [
    {
     "data": {
      "text/plain": [
       "['2 - Godin',\n",
       " '4 - Seagull',\n",
       " '1 - Norman',\n",
       " '5 - Simon & Patrick',\n",
       " '3 - Art & Lutherie']"
      ]
     },
     "execution_count": 200,
     "metadata": {},
     "output_type": "execute_result"
    }
   ],
   "source": [
    "godinManufacturing"
   ]
  },
  {
   "cell_type": "code",
   "execution_count": 201,
   "id": "448863f7",
   "metadata": {},
   "outputs": [],
   "source": [
    "godinManufacturing.sort()"
   ]
  },
  {
   "cell_type": "code",
   "execution_count": 202,
   "id": "1746ed6f",
   "metadata": {},
   "outputs": [
    {
     "data": {
      "text/plain": [
       "['1 - Norman',\n",
       " '2 - Godin',\n",
       " '3 - Art & Lutherie',\n",
       " '4 - Seagull',\n",
       " '5 - Simon & Patrick']"
      ]
     },
     "execution_count": 202,
     "metadata": {},
     "output_type": "execute_result"
    }
   ],
   "source": [
    "godinManufacturing"
   ]
  },
  {
   "cell_type": "code",
   "execution_count": 203,
   "id": "e0baa41e",
   "metadata": {},
   "outputs": [],
   "source": [
    "godinManufacturing.sort(reverse=True)"
   ]
  },
  {
   "cell_type": "code",
   "execution_count": 204,
   "id": "8ae77ef0",
   "metadata": {},
   "outputs": [
    {
     "data": {
      "text/plain": [
       "['5 - Simon & Patrick',\n",
       " '4 - Seagull',\n",
       " '3 - Art & Lutherie',\n",
       " '2 - Godin',\n",
       " '1 - Norman']"
      ]
     },
     "execution_count": 204,
     "metadata": {},
     "output_type": "execute_result"
    }
   ],
   "source": [
    "godinManufacturing"
   ]
  },
  {
   "cell_type": "markdown",
   "id": "fe3c5031",
   "metadata": {},
   "source": [
    "### 9 - Update an Element"
   ]
  },
  {
   "cell_type": "code",
   "execution_count": 207,
   "id": "61216a57",
   "metadata": {},
   "outputs": [
    {
     "data": {
      "text/plain": [
       "['5 - S&P', '4 - Seagull', '3 - Art & Lutherie', '2 - Godin', '1 - Norman']"
      ]
     },
     "execution_count": 207,
     "metadata": {},
     "output_type": "execute_result"
    }
   ],
   "source": [
    "godinManufacturing[0] = '5 - S&P'\n",
    "godinManufacturing"
   ]
  },
  {
   "cell_type": "markdown",
   "id": "bd27ca84",
   "metadata": {},
   "source": [
    "### 10 - Copying a list"
   ]
  },
  {
   "cell_type": "code",
   "execution_count": 209,
   "id": "716ce7ff",
   "metadata": {},
   "outputs": [
    {
     "data": {
      "text/plain": [
       "['5 - S&P', '4 - Seagull', '3 - Art & Lutherie', '2 - Godin', '1 - Norman']"
      ]
     },
     "execution_count": 209,
     "metadata": {},
     "output_type": "execute_result"
    }
   ],
   "source": [
    "# Outputs complete list when no parameter are defined in square brackets\n",
    "godinManufacturing[:]"
   ]
  },
  {
   "cell_type": "code",
   "execution_count": 210,
   "id": "32a18e44",
   "metadata": {},
   "outputs": [
    {
     "data": {
      "text/plain": [
       "['4 - Seagull', '3 - Art & Lutherie']"
      ]
     },
     "execution_count": 210,
     "metadata": {},
     "output_type": "execute_result"
    }
   ],
   "source": [
    "# copy part of a list and create new list\n",
    "newGodinList = godinManufacturing[1:3]\n",
    "newGodinList"
   ]
  },
  {
   "cell_type": "code",
   "execution_count": 217,
   "id": "04e29f77",
   "metadata": {},
   "outputs": [
    {
     "data": {
      "text/plain": [
       "['5 - S&P', '4 - Seagull', '3 - Art & Lutherie', '2 - Godin', '1 - Norman']"
      ]
     },
     "execution_count": 217,
     "metadata": {},
     "output_type": "execute_result"
    }
   ],
   "source": [
    "# copy complete list\n",
    "newGodinList_2 = godinManufacturing.copy()\n",
    "newGodinList_2"
   ]
  },
  {
   "cell_type": "markdown",
   "id": "38a655b2",
   "metadata": {},
   "source": [
    "### 11 - Dictionary"
   ]
  },
  {
   "cell_type": "code",
   "execution_count": 218,
   "id": "71c31b41",
   "metadata": {},
   "outputs": [],
   "source": [
    "# Key - Value pairs\n",
    "my_dict = {'key1':'value1', 'key2':'value2'}"
   ]
  },
  {
   "cell_type": "code",
   "execution_count": 229,
   "id": "325a0fdc",
   "metadata": {},
   "outputs": [
    {
     "data": {
      "text/plain": [
       "{'name': 'Newton',\n",
       " 'size': 'large',\n",
       " 'color': 'gray',\n",
       " 'age': 10,\n",
       " 'state': 'hungry'}"
      ]
     },
     "execution_count": 229,
     "metadata": {},
     "output_type": "execute_result"
    }
   ],
   "source": [
    "cat_data = {'name':'Newton', 'size':'large', 'color':'gray', 'age':10, 'state':'hungry'}\n",
    "cat_data"
   ]
  },
  {
   "cell_type": "code",
   "execution_count": 230,
   "id": "b7b1b0e6",
   "metadata": {},
   "outputs": [
    {
     "data": {
      "text/plain": [
       "dict_keys(['name', 'size', 'color', 'age', 'state'])"
      ]
     },
     "execution_count": 230,
     "metadata": {},
     "output_type": "execute_result"
    }
   ],
   "source": [
    "cat_data.keys()"
   ]
  },
  {
   "cell_type": "code",
   "execution_count": 231,
   "id": "29885862",
   "metadata": {},
   "outputs": [
    {
     "data": {
      "text/plain": [
       "dict_values(['Newton', 'large', 'gray', 10, 'hungry'])"
      ]
     },
     "execution_count": 231,
     "metadata": {},
     "output_type": "execute_result"
    }
   ],
   "source": [
    "cat_data.values()"
   ]
  },
  {
   "cell_type": "code",
   "execution_count": 232,
   "id": "51603af3",
   "metadata": {},
   "outputs": [
    {
     "data": {
      "text/plain": [
       "dict_items([('name', 'Newton'), ('size', 'large'), ('color', 'gray'), ('age', 10), ('state', 'hungry')])"
      ]
     },
     "execution_count": 232,
     "metadata": {},
     "output_type": "execute_result"
    }
   ],
   "source": [
    "# Get first item\n",
    "cat_data.items()"
   ]
  },
  {
   "cell_type": "code",
   "execution_count": 235,
   "id": "0bd9cce2",
   "metadata": {},
   "outputs": [
    {
     "data": {
      "text/plain": [
       "{'name': 'Newton',\n",
       " 'size': 'large',\n",
       " 'color': 'gray',\n",
       " 'age': 10,\n",
       " 'state': 'hungry',\n",
       " 'eyes': 'green'}"
      ]
     },
     "execution_count": 235,
     "metadata": {},
     "output_type": "execute_result"
    }
   ],
   "source": [
    "# Add item\n",
    "cat_data['eyes'] = 'green'\n",
    "cat_data"
   ]
  },
  {
   "cell_type": "code",
   "execution_count": 236,
   "id": "c34dce6f",
   "metadata": {},
   "outputs": [
    {
     "data": {
      "text/plain": [
       "{'name': 'Newton',\n",
       " 'size': 'large',\n",
       " 'color': 'gray',\n",
       " 'age': 10,\n",
       " 'state': 'hungry',\n",
       " 'eyes': 'blue'}"
      ]
     },
     "execution_count": 236,
     "metadata": {},
     "output_type": "execute_result"
    }
   ],
   "source": [
    "# update value\n",
    "cat_data.update({'eyes':'blue'})\n",
    "cat_data"
   ]
  },
  {
   "cell_type": "markdown",
   "id": "4177f133",
   "metadata": {},
   "source": [
    "### 12 - Copy a dictionary"
   ]
  },
  {
   "cell_type": "code",
   "execution_count": 237,
   "id": "b6cc6532",
   "metadata": {},
   "outputs": [],
   "source": [
    "new_cat_data = cat_data.copy()"
   ]
  },
  {
   "cell_type": "code",
   "execution_count": 238,
   "id": "51db8c09",
   "metadata": {},
   "outputs": [
    {
     "data": {
      "text/plain": [
       "{'name': 'Newton',\n",
       " 'size': 'large',\n",
       " 'color': 'gray',\n",
       " 'age': 10,\n",
       " 'state': 'hungry',\n",
       " 'eyes': 'blue'}"
      ]
     },
     "execution_count": 238,
     "metadata": {},
     "output_type": "execute_result"
    }
   ],
   "source": [
    "new_cat_data"
   ]
  },
  {
   "cell_type": "code",
   "execution_count": null,
   "id": "b43a5a01",
   "metadata": {},
   "outputs": [],
   "source": [
    "# Renaming dictionaries without a copy is bad practice\n",
    "# new_cat_data_2 = cat_data"
   ]
  },
  {
   "cell_type": "markdown",
   "id": "754c95ad",
   "metadata": {},
   "source": [
    "### 13 - Remove Element"
   ]
  },
  {
   "cell_type": "code",
   "execution_count": 239,
   "id": "f133ec51",
   "metadata": {},
   "outputs": [
    {
     "data": {
      "text/plain": [
       "'Newton'"
      ]
     },
     "execution_count": 239,
     "metadata": {},
     "output_type": "execute_result"
    }
   ],
   "source": [
    "cat_data.pop('name')"
   ]
  },
  {
   "cell_type": "code",
   "execution_count": 240,
   "id": "c13fffbc",
   "metadata": {},
   "outputs": [
    {
     "data": {
      "text/plain": [
       "{'size': 'large',\n",
       " 'color': 'gray',\n",
       " 'age': 10,\n",
       " 'state': 'hungry',\n",
       " 'eyes': 'blue'}"
      ]
     },
     "execution_count": 240,
     "metadata": {},
     "output_type": "execute_result"
    }
   ],
   "source": [
    "cat_data"
   ]
  },
  {
   "cell_type": "code",
   "execution_count": 241,
   "id": "b102ca3b",
   "metadata": {},
   "outputs": [],
   "source": [
    "del cat_data['eyes']"
   ]
  },
  {
   "cell_type": "code",
   "execution_count": 242,
   "id": "165dc82e",
   "metadata": {},
   "outputs": [
    {
     "data": {
      "text/plain": [
       "{'size': 'large', 'color': 'gray', 'age': 10, 'state': 'hungry'}"
      ]
     },
     "execution_count": 242,
     "metadata": {},
     "output_type": "execute_result"
    }
   ],
   "source": [
    "cat_data"
   ]
  },
  {
   "cell_type": "code",
   "execution_count": 243,
   "id": "2a4aff82",
   "metadata": {},
   "outputs": [
    {
     "data": {
      "text/plain": [
       "{'name': 'Newton',\n",
       " 'size': 'large',\n",
       " 'color': 'gray',\n",
       " 'age': 10,\n",
       " 'state': 'hungry',\n",
       " 'eyes': 'blue'}"
      ]
     },
     "execution_count": 243,
     "metadata": {},
     "output_type": "execute_result"
    }
   ],
   "source": [
    "new_cat_data"
   ]
  },
  {
   "cell_type": "code",
   "execution_count": 244,
   "id": "6f143abc",
   "metadata": {},
   "outputs": [],
   "source": [
    "new_cat_data.clear()"
   ]
  },
  {
   "cell_type": "code",
   "execution_count": 245,
   "id": "90d8727b",
   "metadata": {},
   "outputs": [
    {
     "data": {
      "text/plain": [
       "{}"
      ]
     },
     "execution_count": 245,
     "metadata": {},
     "output_type": "execute_result"
    }
   ],
   "source": [
    "new_cat_data"
   ]
  },
  {
   "cell_type": "markdown",
   "id": "3334416f",
   "metadata": {},
   "source": [
    "### 14 - If statement"
   ]
  },
  {
   "cell_type": "code",
   "execution_count": 249,
   "id": "a20469c4",
   "metadata": {},
   "outputs": [],
   "source": [
    "# if <condition>:\n",
    "#     <code>\n",
    "# elif <consition>:\n",
    "#     <code>\n",
    "# ...\n",
    "# else:\n",
    "#     <code>"
   ]
  },
  {
   "cell_type": "code",
   "execution_count": 260,
   "id": "8db5fab9",
   "metadata": {},
   "outputs": [
    {
     "name": "stdout",
     "output_type": "stream",
     "text": [
      "You're my age\n"
     ]
    }
   ],
   "source": [
    "age = 33\n",
    "\n",
    "if age>33:\n",
    "    print(\"You're older than me\")\n",
    "elif age==33:\n",
    "     print(\"You're my age\")\n",
    "else:\n",
    "    print(\"You're younger than me\")"
   ]
  },
  {
   "cell_type": "markdown",
   "id": "c21fe876",
   "metadata": {},
   "source": [
    "### 15 - For Loops"
   ]
  },
  {
   "cell_type": "code",
   "execution_count": 261,
   "id": "4af03522",
   "metadata": {},
   "outputs": [],
   "source": [
    "# for <variable> in <iterable>:\n",
    "#     <code>"
   ]
  },
  {
   "cell_type": "code",
   "execution_count": 263,
   "id": "fb05f9b1",
   "metadata": {},
   "outputs": [
    {
     "data": {
      "text/plain": [
       "['Canada', 'India', 'Brazil']"
      ]
     },
     "execution_count": 263,
     "metadata": {},
     "output_type": "execute_result"
    }
   ],
   "source": [
    "countries"
   ]
  },
  {
   "cell_type": "code",
   "execution_count": 264,
   "id": "54debcc9",
   "metadata": {},
   "outputs": [
    {
     "name": "stdout",
     "output_type": "stream",
     "text": [
      "Canada\n",
      "India\n",
      "Brazil\n"
     ]
    }
   ],
   "source": [
    "for country in countries:\n",
    "    print(country)"
   ]
  },
  {
   "cell_type": "code",
   "execution_count": 265,
   "id": "15d50e57",
   "metadata": {},
   "outputs": [
    {
     "name": "stdout",
     "output_type": "stream",
     "text": [
      "0\n",
      "Canada\n",
      "1\n",
      "India\n",
      "2\n",
      "Brazil\n"
     ]
    }
   ],
   "source": [
    "for i, country in enumerate(countries):\n",
    "    print(i)\n",
    "    print(country)"
   ]
  },
  {
   "cell_type": "code",
   "execution_count": 270,
   "id": "52d3dc04",
   "metadata": {},
   "outputs": [
    {
     "data": {
      "text/plain": [
       "{'name': 'Stephane', 'height': 5.8}"
      ]
     },
     "execution_count": 270,
     "metadata": {},
     "output_type": "execute_result"
    }
   ],
   "source": [
    "user_data = {'name':'Stephane', 'height':5.8}\n",
    "user_data"
   ]
  },
  {
   "cell_type": "code",
   "execution_count": 271,
   "id": "1153348a",
   "metadata": {},
   "outputs": [
    {
     "name": "stdout",
     "output_type": "stream",
     "text": [
      "name\n",
      "Stephane\n",
      "height\n",
      "5.8\n"
     ]
    }
   ],
   "source": [
    "for key, value in user_data.items():\n",
    "    print(key)\n",
    "    print(value)"
   ]
  },
  {
   "cell_type": "markdown",
   "id": "1a3e241f",
   "metadata": {},
   "source": [
    "### 16 - Functions"
   ]
  },
  {
   "cell_type": "code",
   "execution_count": null,
   "id": "e88f5a89",
   "metadata": {},
   "outputs": [],
   "source": [
    "# You need def to define a function\n",
    "# def function(<params>):\n",
    "#     <code>\n",
    "#     return <data>"
   ]
  },
  {
   "cell_type": "code",
   "execution_count": 273,
   "id": "af643c01",
   "metadata": {},
   "outputs": [],
   "source": [
    "def sum_values(a, b):\n",
    "    x = a + b\n",
    "    return x"
   ]
  },
  {
   "cell_type": "code",
   "execution_count": 275,
   "id": "89d6c71e",
   "metadata": {},
   "outputs": [
    {
     "data": {
      "text/plain": [
       "4"
      ]
     },
     "execution_count": 275,
     "metadata": {},
     "output_type": "execute_result"
    }
   ],
   "source": [
    "# call function\n",
    "sum_values(1, 3)"
   ]
  },
  {
   "cell_type": "markdown",
   "id": "0985ee8d",
   "metadata": {},
   "source": [
    "### 17 - Built-in Functions"
   ]
  },
  {
   "cell_type": "code",
   "execution_count": 278,
   "id": "34560b25",
   "metadata": {},
   "outputs": [
    {
     "data": {
      "text/plain": [
       "['Tiffany', 'Stephane', 'Newton', 'Donny']"
      ]
     },
     "execution_count": 278,
     "metadata": {},
     "output_type": "execute_result"
    }
   ],
   "source": [
    "users = ['Tiffany', 'Stephane', 'Newton', 'Donny']\n",
    "users"
   ]
  },
  {
   "cell_type": "code",
   "execution_count": 279,
   "id": "37a817b0",
   "metadata": {},
   "outputs": [
    {
     "data": {
      "text/plain": [
       "4"
      ]
     },
     "execution_count": 279,
     "metadata": {},
     "output_type": "execute_result"
    }
   ],
   "source": [
    "# lenght function\n",
    "len(users)"
   ]
  },
  {
   "cell_type": "code",
   "execution_count": 285,
   "id": "5cd505a1",
   "metadata": {},
   "outputs": [
    {
     "name": "stdout",
     "output_type": "stream",
     "text": [
      "77\n",
      "1\n"
     ]
    }
   ],
   "source": [
    "# min, max\n",
    "print(max([5, 4, 12, 77, 1]))\n",
    "print(min([5, 4, 12, 77, 1]))"
   ]
  },
  {
   "cell_type": "code",
   "execution_count": 286,
   "id": "0c0fc6fe",
   "metadata": {},
   "outputs": [
    {
     "data": {
      "text/plain": [
       "list"
      ]
     },
     "execution_count": 286,
     "metadata": {},
     "output_type": "execute_result"
    }
   ],
   "source": [
    "type(users)"
   ]
  },
  {
   "cell_type": "code",
   "execution_count": 291,
   "id": "ae8bf194",
   "metadata": {},
   "outputs": [
    {
     "name": "stdout",
     "output_type": "stream",
     "text": [
      "1\n",
      "4\n",
      "7\n"
     ]
    }
   ],
   "source": [
    "# range is first 2 values, last value is increment\n",
    "for i in range(1, 10, 3):\n",
    "    print(i)"
   ]
  },
  {
   "cell_type": "markdown",
   "id": "970414a8",
   "metadata": {},
   "source": [
    "### 18 - Module"
   ]
  },
  {
   "cell_type": "code",
   "execution_count": 293,
   "id": "d3f6fef6",
   "metadata": {},
   "outputs": [],
   "source": [
    "# import"
   ]
  },
  {
   "cell_type": "markdown",
   "id": "019154f1",
   "metadata": {},
   "source": [
    "OS Module"
   ]
  },
  {
   "cell_type": "code",
   "execution_count": 295,
   "id": "3e67a00c",
   "metadata": {},
   "outputs": [],
   "source": [
    "import os"
   ]
  },
  {
   "cell_type": "code",
   "execution_count": 296,
   "id": "769b521a",
   "metadata": {},
   "outputs": [
    {
     "data": {
      "text/plain": [
       "'C:\\\\Users\\\\steph\\\\Anaconda Scripts\\\\Data Analysis Course'"
      ]
     },
     "execution_count": 296,
     "metadata": {},
     "output_type": "execute_result"
    }
   ],
   "source": [
    "# cwd - current working directory\n",
    "os.getcwd()"
   ]
  },
  {
   "cell_type": "code",
   "execution_count": 298,
   "id": "beeb138b",
   "metadata": {},
   "outputs": [
    {
     "data": {
      "text/plain": [
       "['.ipynb_checkpoints', 'Example.ipynb']"
      ]
     },
     "execution_count": 298,
     "metadata": {},
     "output_type": "execute_result"
    }
   ],
   "source": [
    "os.listdir()"
   ]
  },
  {
   "cell_type": "code",
   "execution_count": 299,
   "id": "6c8d594c",
   "metadata": {},
   "outputs": [],
   "source": [
    "os.makedirs(\"New Folder\")"
   ]
  },
  {
   "cell_type": "code",
   "execution_count": 310,
   "id": "3e981399",
   "metadata": {},
   "outputs": [
    {
     "data": {
      "text/plain": [
       "['.ipynb_checkpoints',\n",
       " 'Example.ipynb',\n",
       " 'Introduction to Pandas.ipynb',\n",
       " 'New Folder']"
      ]
     },
     "execution_count": 310,
     "metadata": {},
     "output_type": "execute_result"
    }
   ],
   "source": [
    "os.listdir()"
   ]
  }
 ],
 "metadata": {
  "kernelspec": {
   "display_name": "Python 3 (ipykernel)",
   "language": "python",
   "name": "python3"
  },
  "language_info": {
   "codemirror_mode": {
    "name": "ipython",
    "version": 3
   },
   "file_extension": ".py",
   "mimetype": "text/x-python",
   "name": "python",
   "nbconvert_exporter": "python",
   "pygments_lexer": "ipython3",
   "version": "3.9.7"
  }
 },
 "nbformat": 4,
 "nbformat_minor": 5
}
