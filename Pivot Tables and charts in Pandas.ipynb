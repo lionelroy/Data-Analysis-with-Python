{
 "cells": [
  {
   "cell_type": "code",
   "execution_count": 51,
   "id": "7bb253ff",
   "metadata": {},
   "outputs": [],
   "source": [
    "import pandas as pd\n",
    "import matplotlib.pyplot as plt"
   ]
  },
  {
   "cell_type": "markdown",
   "id": "a8616586",
   "metadata": {},
   "source": [
    "## Pivot"
   ]
  },
  {
   "cell_type": "code",
   "execution_count": 2,
   "id": "63339f65",
   "metadata": {},
   "outputs": [],
   "source": [
    "# Read and show the dataset\n",
    "df_race_census = pd.read_csv(\"US_county_census_est_race_eth_2010_2019.csv\")"
   ]
  },
  {
   "cell_type": "code",
   "execution_count": 3,
   "id": "44252285",
   "metadata": {},
   "outputs": [],
   "source": [
    "df_race_census_no_duplicates = df_race_census.drop_duplicates(subset=[\"year\"])"
   ]
  },
  {
   "cell_type": "code",
   "execution_count": 4,
   "id": "c3deddf4",
   "metadata": {},
   "outputs": [
    {
     "data": {
      "text/html": [
       "<div>\n",
       "<style scoped>\n",
       "    .dataframe tbody tr th:only-of-type {\n",
       "        vertical-align: middle;\n",
       "    }\n",
       "\n",
       "    .dataframe tbody tr th {\n",
       "        vertical-align: top;\n",
       "    }\n",
       "\n",
       "    .dataframe thead th {\n",
       "        text-align: right;\n",
       "    }\n",
       "</style>\n",
       "<table border=\"1\" class=\"dataframe\">\n",
       "  <thead>\n",
       "    <tr style=\"text-align: right;\">\n",
       "      <th>state</th>\n",
       "      <th>Alabama</th>\n",
       "    </tr>\n",
       "    <tr>\n",
       "      <th>year</th>\n",
       "      <th></th>\n",
       "    </tr>\n",
       "  </thead>\n",
       "  <tbody>\n",
       "    <tr>\n",
       "      <th>2010</th>\n",
       "      <td>484</td>\n",
       "    </tr>\n",
       "    <tr>\n",
       "      <th>2011</th>\n",
       "      <td>514</td>\n",
       "    </tr>\n",
       "    <tr>\n",
       "      <th>2012</th>\n",
       "      <td>552</td>\n",
       "    </tr>\n",
       "    <tr>\n",
       "      <th>2013</th>\n",
       "      <td>561</td>\n",
       "    </tr>\n",
       "    <tr>\n",
       "      <th>2014</th>\n",
       "      <td>573</td>\n",
       "    </tr>\n",
       "    <tr>\n",
       "      <th>2015</th>\n",
       "      <td>596</td>\n",
       "    </tr>\n",
       "    <tr>\n",
       "      <th>2016</th>\n",
       "      <td>646</td>\n",
       "    </tr>\n",
       "    <tr>\n",
       "      <th>2017</th>\n",
       "      <td>679</td>\n",
       "    </tr>\n",
       "    <tr>\n",
       "      <th>2018</th>\n",
       "      <td>659</td>\n",
       "    </tr>\n",
       "    <tr>\n",
       "      <th>2019</th>\n",
       "      <td>656</td>\n",
       "    </tr>\n",
       "  </tbody>\n",
       "</table>\n",
       "</div>"
      ],
      "text/plain": [
       "state  Alabama\n",
       "year          \n",
       "2010       484\n",
       "2011       514\n",
       "2012       552\n",
       "2013       561\n",
       "2014       573\n",
       "2015       596\n",
       "2016       646\n",
       "2017       679\n",
       "2018       659\n",
       "2019       656"
      ]
     },
     "execution_count": 4,
     "metadata": {},
     "output_type": "execute_result"
    }
   ],
   "source": [
    "# Reshape the dataframe with .pivot()\n",
    "# Find a way to get rid of ---ValueError: Index contains duplicate entries, cannot reshape---\n",
    "# Table is not showing every state ----FIX-----\n",
    "df_race_census_no_duplicates.pivot(index=\"year\", columns=\"state\", values=\"asian_pop\")"
   ]
  },
  {
   "cell_type": "markdown",
   "id": "6f9cb1ad",
   "metadata": {},
   "source": [
    "### Pivot_table()"
   ]
  },
  {
   "cell_type": "code",
   "execution_count": 5,
   "id": "2cb4bac5",
   "metadata": {},
   "outputs": [],
   "source": [
    "import pandas as pd"
   ]
  },
  {
   "cell_type": "code",
   "execution_count": 6,
   "id": "216bc4e3",
   "metadata": {},
   "outputs": [
    {
     "data": {
      "text/html": [
       "<div>\n",
       "<style scoped>\n",
       "    .dataframe tbody tr th:only-of-type {\n",
       "        vertical-align: middle;\n",
       "    }\n",
       "\n",
       "    .dataframe tbody tr th {\n",
       "        vertical-align: top;\n",
       "    }\n",
       "\n",
       "    .dataframe thead th {\n",
       "        text-align: right;\n",
       "    }\n",
       "</style>\n",
       "<table border=\"1\" class=\"dataframe\">\n",
       "  <thead>\n",
       "    <tr style=\"text-align: right;\">\n",
       "      <th></th>\n",
       "      <th>Row</th>\n",
       "      <th>Order Priority</th>\n",
       "      <th>Order Date</th>\n",
       "      <th>Order</th>\n",
       "      <th>Discount</th>\n",
       "      <th>Unit Price</th>\n",
       "      <th>Order Quantity</th>\n",
       "      <th>Sales</th>\n",
       "      <th>Profit</th>\n",
       "      <th>Shipping Cost</th>\n",
       "      <th>Product Base Margin</th>\n",
       "      <th>Department</th>\n",
       "      <th>Container</th>\n",
       "      <th>Category</th>\n",
       "      <th>Item</th>\n",
       "      <th>Customer Segment</th>\n",
       "      <th>Customer_ID</th>\n",
       "      <th>Customer Name</th>\n",
       "      <th>Region</th>\n",
       "      <th>State</th>\n",
       "      <th>Country / Region</th>\n",
       "      <th>City</th>\n",
       "      <th>Postal Code</th>\n",
       "      <th>Ship Date</th>\n",
       "      <th>Ship Mode</th>\n",
       "      <th>SubRegion</th>\n",
       "    </tr>\n",
       "  </thead>\n",
       "  <tbody>\n",
       "    <tr>\n",
       "      <th>0</th>\n",
       "      <td>1</td>\n",
       "      <td>High</td>\n",
       "      <td>01/01/2010</td>\n",
       "      <td>28774</td>\n",
       "      <td>10%</td>\n",
       "      <td>6.0</td>\n",
       "      <td>32</td>\n",
       "      <td>172.80</td>\n",
       "      <td>106.36</td>\n",
       "      <td>5.0</td>\n",
       "      <td>68.00%</td>\n",
       "      <td>Office Supplies</td>\n",
       "      <td>Small Box</td>\n",
       "      <td>Storage &amp; Organization</td>\n",
       "      <td>False</td>\n",
       "      <td>Small Business</td>\n",
       "      <td>1656</td>\n",
       "      <td>Joy Corbett</td>\n",
       "      <td>AsiaPac</td>\n",
       "      <td>Central</td>\n",
       "      <td>Fiji</td>\n",
       "      <td>Suva</td>\n",
       "      <td>NaN</td>\n",
       "      <td>02/01/2010</td>\n",
       "      <td>Regular Air</td>\n",
       "      <td>NaN</td>\n",
       "    </tr>\n",
       "    <tr>\n",
       "      <th>1</th>\n",
       "      <td>2</td>\n",
       "      <td>Not Specified</td>\n",
       "      <td>01/01/2010</td>\n",
       "      <td>88028</td>\n",
       "      <td>8%</td>\n",
       "      <td>96.0</td>\n",
       "      <td>2</td>\n",
       "      <td>176.64</td>\n",
       "      <td>45.64</td>\n",
       "      <td>35.0</td>\n",
       "      <td>50.00%</td>\n",
       "      <td>Office Supplies</td>\n",
       "      <td>Large Box</td>\n",
       "      <td>Storage &amp; Organization</td>\n",
       "      <td>Safco Industrial Wire Shelving</td>\n",
       "      <td>Home Office</td>\n",
       "      <td>2211</td>\n",
       "      <td>Anita Hahn</td>\n",
       "      <td>North America</td>\n",
       "      <td>Maryland</td>\n",
       "      <td>United States of America</td>\n",
       "      <td>Bowie</td>\n",
       "      <td>20715.0</td>\n",
       "      <td>03/01/2010</td>\n",
       "      <td>Express Air</td>\n",
       "      <td>East                                          ...</td>\n",
       "    </tr>\n",
       "    <tr>\n",
       "      <th>2</th>\n",
       "      <td>3</td>\n",
       "      <td>Critical</td>\n",
       "      <td>02/01/2010</td>\n",
       "      <td>9285</td>\n",
       "      <td>6%</td>\n",
       "      <td>41.0</td>\n",
       "      <td>3</td>\n",
       "      <td>115.62</td>\n",
       "      <td>33.90</td>\n",
       "      <td>3.0</td>\n",
       "      <td>36.00%</td>\n",
       "      <td>Office Supplies</td>\n",
       "      <td>Small Box</td>\n",
       "      <td>Binders and Binder Accessories</td>\n",
       "      <td>Avery Trapezoid Ring Binder, 3\" Capacity, Blac...</td>\n",
       "      <td>Consumer</td>\n",
       "      <td>949</td>\n",
       "      <td>Ernest Oh</td>\n",
       "      <td>North America</td>\n",
       "      <td>California</td>\n",
       "      <td>United States of America</td>\n",
       "      <td>Los Angeles</td>\n",
       "      <td>90049.0</td>\n",
       "      <td>04/01/2010</td>\n",
       "      <td>Regular Air</td>\n",
       "      <td>West                                          ...</td>\n",
       "    </tr>\n",
       "    <tr>\n",
       "      <th>3</th>\n",
       "      <td>4</td>\n",
       "      <td>Low</td>\n",
       "      <td>02/01/2010</td>\n",
       "      <td>37537</td>\n",
       "      <td>0%</td>\n",
       "      <td>292.0</td>\n",
       "      <td>4</td>\n",
       "      <td>1168.00</td>\n",
       "      <td>605.08</td>\n",
       "      <td>49.0</td>\n",
       "      <td>56.00%</td>\n",
       "      <td>Furniture</td>\n",
       "      <td>Jumbo Drum</td>\n",
       "      <td>Chairs &amp; Chairmats</td>\n",
       "      <td>False</td>\n",
       "      <td>Corporate</td>\n",
       "      <td>68</td>\n",
       "      <td>Scott Bunn</td>\n",
       "      <td>North America</td>\n",
       "      <td>New York</td>\n",
       "      <td>United States of America</td>\n",
       "      <td>New York City</td>\n",
       "      <td>10177.0</td>\n",
       "      <td>02/01/2010</td>\n",
       "      <td>Delivery Truck</td>\n",
       "      <td>East                                          ...</td>\n",
       "    </tr>\n",
       "    <tr>\n",
       "      <th>4</th>\n",
       "      <td>5</td>\n",
       "      <td>Low</td>\n",
       "      <td>02/01/2010</td>\n",
       "      <td>37537</td>\n",
       "      <td>7%</td>\n",
       "      <td>101.0</td>\n",
       "      <td>43</td>\n",
       "      <td>4038.99</td>\n",
       "      <td>2647.66</td>\n",
       "      <td>45.0</td>\n",
       "      <td>69.00%</td>\n",
       "      <td>Furniture</td>\n",
       "      <td>Jumbo Drum</td>\n",
       "      <td>Chairs &amp; Chairmats</td>\n",
       "      <td>False</td>\n",
       "      <td>Corporate</td>\n",
       "      <td>68</td>\n",
       "      <td>Scott Bunn</td>\n",
       "      <td>North America</td>\n",
       "      <td>New York</td>\n",
       "      <td>United States of America</td>\n",
       "      <td>New York City</td>\n",
       "      <td>10177.0</td>\n",
       "      <td>04/01/2010</td>\n",
       "      <td>Delivery Truck</td>\n",
       "      <td>East                                          ...</td>\n",
       "    </tr>\n",
       "    <tr>\n",
       "      <th>...</th>\n",
       "      <td>...</td>\n",
       "      <td>...</td>\n",
       "      <td>...</td>\n",
       "      <td>...</td>\n",
       "      <td>...</td>\n",
       "      <td>...</td>\n",
       "      <td>...</td>\n",
       "      <td>...</td>\n",
       "      <td>...</td>\n",
       "      <td>...</td>\n",
       "      <td>...</td>\n",
       "      <td>...</td>\n",
       "      <td>...</td>\n",
       "      <td>...</td>\n",
       "      <td>...</td>\n",
       "      <td>...</td>\n",
       "      <td>...</td>\n",
       "      <td>...</td>\n",
       "      <td>...</td>\n",
       "      <td>...</td>\n",
       "      <td>...</td>\n",
       "      <td>...</td>\n",
       "      <td>...</td>\n",
       "      <td>...</td>\n",
       "      <td>...</td>\n",
       "      <td>...</td>\n",
       "    </tr>\n",
       "    <tr>\n",
       "      <th>16793</th>\n",
       "      <td>16794</td>\n",
       "      <td>Not Specified</td>\n",
       "      <td>30/12/2013</td>\n",
       "      <td>89840</td>\n",
       "      <td>10%</td>\n",
       "      <td>13.0</td>\n",
       "      <td>18</td>\n",
       "      <td>210.60</td>\n",
       "      <td>109.66</td>\n",
       "      <td>5.0</td>\n",
       "      <td>59.00%</td>\n",
       "      <td>Office Supplies</td>\n",
       "      <td>Small Box</td>\n",
       "      <td>Storage &amp; Organization</td>\n",
       "      <td>Tenex Personal Project File with Scoop Front D...</td>\n",
       "      <td>Corporate</td>\n",
       "      <td>3265</td>\n",
       "      <td>Glenn Morgan</td>\n",
       "      <td>North America</td>\n",
       "      <td>California</td>\n",
       "      <td>United States of America</td>\n",
       "      <td>Fairfield</td>\n",
       "      <td>94533.0</td>\n",
       "      <td>30/12/2013</td>\n",
       "      <td>Express Air</td>\n",
       "      <td>West                                          ...</td>\n",
       "    </tr>\n",
       "    <tr>\n",
       "      <th>16794</th>\n",
       "      <td>16795</td>\n",
       "      <td>Not Specified</td>\n",
       "      <td>31/12/2013</td>\n",
       "      <td>46597</td>\n",
       "      <td>6%</td>\n",
       "      <td>13.0</td>\n",
       "      <td>20</td>\n",
       "      <td>244.40</td>\n",
       "      <td>83.40</td>\n",
       "      <td>5.0</td>\n",
       "      <td>40.00%</td>\n",
       "      <td>Office Supplies</td>\n",
       "      <td>Small Box</td>\n",
       "      <td>Binders and Binder Accessories</td>\n",
       "      <td>GBC Binding covers</td>\n",
       "      <td>Consumer</td>\n",
       "      <td>2275</td>\n",
       "      <td>Bradley Gordon</td>\n",
       "      <td>AsiaPac</td>\n",
       "      <td>Jakarta</td>\n",
       "      <td>Indonesia</td>\n",
       "      <td>Jakarta</td>\n",
       "      <td>NaN</td>\n",
       "      <td>02/01/2014</td>\n",
       "      <td>Regular Air</td>\n",
       "      <td>NaN</td>\n",
       "    </tr>\n",
       "    <tr>\n",
       "      <th>16795</th>\n",
       "      <td>16796</td>\n",
       "      <td>Medium</td>\n",
       "      <td>31/12/2013</td>\n",
       "      <td>90144</td>\n",
       "      <td>3%</td>\n",
       "      <td>163.0</td>\n",
       "      <td>20</td>\n",
       "      <td>3162.20</td>\n",
       "      <td>1153.60</td>\n",
       "      <td>20.0</td>\n",
       "      <td>39.00%</td>\n",
       "      <td>Office Supplies</td>\n",
       "      <td>Small Box</td>\n",
       "      <td>Envelopes</td>\n",
       "      <td>Multimedia Mailers</td>\n",
       "      <td>Small Business</td>\n",
       "      <td>1090</td>\n",
       "      <td>Seth Davies</td>\n",
       "      <td>North America</td>\n",
       "      <td>Illinois</td>\n",
       "      <td>United States of America</td>\n",
       "      <td>Saint Charles</td>\n",
       "      <td>60174.0</td>\n",
       "      <td>02/01/2014</td>\n",
       "      <td>Regular Air</td>\n",
       "      <td>Central                                       ...</td>\n",
       "    </tr>\n",
       "    <tr>\n",
       "      <th>16796</th>\n",
       "      <td>16797</td>\n",
       "      <td>Not Specified</td>\n",
       "      <td>31/12/2013</td>\n",
       "      <td>91506</td>\n",
       "      <td>6%</td>\n",
       "      <td>13.0</td>\n",
       "      <td>5</td>\n",
       "      <td>61.10</td>\n",
       "      <td>17.10</td>\n",
       "      <td>5.0</td>\n",
       "      <td>40.00%</td>\n",
       "      <td>Office Supplies</td>\n",
       "      <td>Small Box</td>\n",
       "      <td>Binders and Binder Accessories</td>\n",
       "      <td>GBC Binding covers</td>\n",
       "      <td>Consumer</td>\n",
       "      <td>2277</td>\n",
       "      <td>Allison Peacock</td>\n",
       "      <td>North America</td>\n",
       "      <td>New York</td>\n",
       "      <td>United States of America</td>\n",
       "      <td>North Tonawanda</td>\n",
       "      <td>14120.0</td>\n",
       "      <td>02/01/2014</td>\n",
       "      <td>Regular Air</td>\n",
       "      <td>East                                          ...</td>\n",
       "    </tr>\n",
       "    <tr>\n",
       "      <th>16797</th>\n",
       "      <td>16798</td>\n",
       "      <td>Not Specified</td>\n",
       "      <td>31/12/2013</td>\n",
       "      <td>91506</td>\n",
       "      <td>0%</td>\n",
       "      <td>123.0</td>\n",
       "      <td>1</td>\n",
       "      <td>123.00</td>\n",
       "      <td>21.02</td>\n",
       "      <td>70.0</td>\n",
       "      <td>74.00%</td>\n",
       "      <td>Furniture</td>\n",
       "      <td>Jumbo Drum</td>\n",
       "      <td>Chairs &amp; Chairmats</td>\n",
       "      <td>Global High-Back Leather Tilter, Burgundy</td>\n",
       "      <td>Consumer</td>\n",
       "      <td>2277</td>\n",
       "      <td>Allison Peacock</td>\n",
       "      <td>North America</td>\n",
       "      <td>New York</td>\n",
       "      <td>United States of America</td>\n",
       "      <td>North Tonawanda</td>\n",
       "      <td>14120.0</td>\n",
       "      <td>02/01/2014</td>\n",
       "      <td>Delivery Truck</td>\n",
       "      <td>East                                          ...</td>\n",
       "    </tr>\n",
       "  </tbody>\n",
       "</table>\n",
       "<p>16798 rows × 26 columns</p>\n",
       "</div>"
      ],
      "text/plain": [
       "         Row Order Priority  Order Date  Order Discount  Unit Price  \\\n",
       "0          1           High  01/01/2010  28774      10%         6.0   \n",
       "1          2  Not Specified  01/01/2010  88028       8%        96.0   \n",
       "2          3       Critical  02/01/2010   9285       6%        41.0   \n",
       "3          4            Low  02/01/2010  37537       0%       292.0   \n",
       "4          5            Low  02/01/2010  37537       7%       101.0   \n",
       "...      ...            ...         ...    ...      ...         ...   \n",
       "16793  16794  Not Specified  30/12/2013  89840      10%        13.0   \n",
       "16794  16795  Not Specified  31/12/2013  46597       6%        13.0   \n",
       "16795  16796         Medium  31/12/2013  90144       3%       163.0   \n",
       "16796  16797  Not Specified  31/12/2013  91506       6%        13.0   \n",
       "16797  16798  Not Specified  31/12/2013  91506       0%       123.0   \n",
       "\n",
       "       Order Quantity    Sales   Profit  Shipping Cost Product Base Margin  \\\n",
       "0                  32   172.80   106.36            5.0              68.00%   \n",
       "1                   2   176.64    45.64           35.0              50.00%   \n",
       "2                   3   115.62    33.90            3.0              36.00%   \n",
       "3                   4  1168.00   605.08           49.0              56.00%   \n",
       "4                  43  4038.99  2647.66           45.0              69.00%   \n",
       "...               ...      ...      ...            ...                 ...   \n",
       "16793              18   210.60   109.66            5.0              59.00%   \n",
       "16794              20   244.40    83.40            5.0              40.00%   \n",
       "16795              20  3162.20  1153.60           20.0              39.00%   \n",
       "16796               5    61.10    17.10            5.0              40.00%   \n",
       "16797               1   123.00    21.02           70.0              74.00%   \n",
       "\n",
       "            Department   Container                        Category  \\\n",
       "0      Office Supplies   Small Box          Storage & Organization   \n",
       "1      Office Supplies   Large Box          Storage & Organization   \n",
       "2      Office Supplies   Small Box  Binders and Binder Accessories   \n",
       "3            Furniture  Jumbo Drum              Chairs & Chairmats   \n",
       "4            Furniture  Jumbo Drum              Chairs & Chairmats   \n",
       "...                ...         ...                             ...   \n",
       "16793  Office Supplies   Small Box          Storage & Organization   \n",
       "16794  Office Supplies   Small Box  Binders and Binder Accessories   \n",
       "16795  Office Supplies   Small Box                       Envelopes   \n",
       "16796  Office Supplies   Small Box  Binders and Binder Accessories   \n",
       "16797        Furniture  Jumbo Drum              Chairs & Chairmats   \n",
       "\n",
       "                                                    Item Customer Segment  \\\n",
       "0                                                  False   Small Business   \n",
       "1                         Safco Industrial Wire Shelving      Home Office   \n",
       "2      Avery Trapezoid Ring Binder, 3\" Capacity, Blac...         Consumer   \n",
       "3                                                  False        Corporate   \n",
       "4                                                  False        Corporate   \n",
       "...                                                  ...              ...   \n",
       "16793  Tenex Personal Project File with Scoop Front D...        Corporate   \n",
       "16794                                 GBC Binding covers         Consumer   \n",
       "16795                                 Multimedia Mailers   Small Business   \n",
       "16796                                 GBC Binding covers         Consumer   \n",
       "16797          Global High-Back Leather Tilter, Burgundy         Consumer   \n",
       "\n",
       "       Customer_ID    Customer Name         Region       State  \\\n",
       "0             1656      Joy Corbett        AsiaPac     Central   \n",
       "1             2211       Anita Hahn  North America    Maryland   \n",
       "2              949        Ernest Oh  North America  California   \n",
       "3               68       Scott Bunn  North America    New York   \n",
       "4               68       Scott Bunn  North America    New York   \n",
       "...            ...              ...            ...         ...   \n",
       "16793         3265     Glenn Morgan  North America  California   \n",
       "16794         2275   Bradley Gordon        AsiaPac     Jakarta   \n",
       "16795         1090      Seth Davies  North America    Illinois   \n",
       "16796         2277  Allison Peacock  North America    New York   \n",
       "16797         2277  Allison Peacock  North America    New York   \n",
       "\n",
       "               Country / Region             City  Postal Code   Ship Date  \\\n",
       "0                          Fiji             Suva          NaN  02/01/2010   \n",
       "1      United States of America            Bowie      20715.0  03/01/2010   \n",
       "2      United States of America      Los Angeles      90049.0  04/01/2010   \n",
       "3      United States of America    New York City      10177.0  02/01/2010   \n",
       "4      United States of America    New York City      10177.0  04/01/2010   \n",
       "...                         ...              ...          ...         ...   \n",
       "16793  United States of America        Fairfield      94533.0  30/12/2013   \n",
       "16794                 Indonesia          Jakarta          NaN  02/01/2014   \n",
       "16795  United States of America    Saint Charles      60174.0  02/01/2014   \n",
       "16796  United States of America  North Tonawanda      14120.0  02/01/2014   \n",
       "16797  United States of America  North Tonawanda      14120.0  02/01/2014   \n",
       "\n",
       "            Ship Mode                                          SubRegion  \n",
       "0         Regular Air                                                NaN  \n",
       "1         Express Air  East                                          ...  \n",
       "2         Regular Air  West                                          ...  \n",
       "3      Delivery Truck  East                                          ...  \n",
       "4      Delivery Truck  East                                          ...  \n",
       "...               ...                                                ...  \n",
       "16793     Express Air  West                                          ...  \n",
       "16794     Regular Air                                                NaN  \n",
       "16795     Regular Air  Central                                       ...  \n",
       "16796     Regular Air  East                                          ...  \n",
       "16797  Delivery Truck  East                                          ...  \n",
       "\n",
       "[16798 rows x 26 columns]"
      ]
     },
     "execution_count": 6,
     "metadata": {},
     "output_type": "execute_result"
    }
   ],
   "source": [
    "df_sales = pd.read_excel(\"SuperstoreSalesTraining.xlsx\")\n",
    "pd.set_option('display.max_columns', None)\n",
    "df_sales"
   ]
  },
  {
   "cell_type": "code",
   "execution_count": 8,
   "id": "49b84277",
   "metadata": {},
   "outputs": [
    {
     "data": {
      "text/html": [
       "<div>\n",
       "<style scoped>\n",
       "    .dataframe tbody tr th:only-of-type {\n",
       "        vertical-align: middle;\n",
       "    }\n",
       "\n",
       "    .dataframe tbody tr th {\n",
       "        vertical-align: top;\n",
       "    }\n",
       "\n",
       "    .dataframe thead th {\n",
       "        text-align: right;\n",
       "    }\n",
       "</style>\n",
       "<table border=\"1\" class=\"dataframe\">\n",
       "  <thead>\n",
       "    <tr style=\"text-align: right;\">\n",
       "      <th></th>\n",
       "      <th>Customer_ID</th>\n",
       "      <th>Order</th>\n",
       "      <th>Order Quantity</th>\n",
       "      <th>Postal Code</th>\n",
       "      <th>Profit</th>\n",
       "      <th>Row</th>\n",
       "      <th>Sales</th>\n",
       "      <th>Shipping Cost</th>\n",
       "      <th>Unit Price</th>\n",
       "    </tr>\n",
       "    <tr>\n",
       "      <th>Region</th>\n",
       "      <th></th>\n",
       "      <th></th>\n",
       "      <th></th>\n",
       "      <th></th>\n",
       "      <th></th>\n",
       "      <th></th>\n",
       "      <th></th>\n",
       "      <th></th>\n",
       "      <th></th>\n",
       "    </tr>\n",
       "  </thead>\n",
       "  <tbody>\n",
       "    <tr>\n",
       "      <th>AsiaPac</th>\n",
       "      <td>6586010</td>\n",
       "      <td>114901531</td>\n",
       "      <td>158028</td>\n",
       "      <td>283961.0</td>\n",
       "      <td>5370927.26</td>\n",
       "      <td>32565051</td>\n",
       "      <td>10802585.56</td>\n",
       "      <td>47980.0</td>\n",
       "      <td>358071.0</td>\n",
       "    </tr>\n",
       "    <tr>\n",
       "      <th>EMEA</th>\n",
       "      <td>3241185</td>\n",
       "      <td>55919386</td>\n",
       "      <td>78882</td>\n",
       "      <td>18696354.0</td>\n",
       "      <td>2850892.32</td>\n",
       "      <td>15734280</td>\n",
       "      <td>5543252.39</td>\n",
       "      <td>25117.0</td>\n",
       "      <td>164579.0</td>\n",
       "    </tr>\n",
       "    <tr>\n",
       "      <th>Latam</th>\n",
       "      <td>3160665</td>\n",
       "      <td>48372062</td>\n",
       "      <td>70494</td>\n",
       "      <td>0.0</td>\n",
       "      <td>2383306.89</td>\n",
       "      <td>13645997</td>\n",
       "      <td>4896470.15</td>\n",
       "      <td>21331.0</td>\n",
       "      <td>138740.0</td>\n",
       "    </tr>\n",
       "    <tr>\n",
       "      <th>North America</th>\n",
       "      <td>16480247</td>\n",
       "      <td>777510929</td>\n",
       "      <td>133037</td>\n",
       "      <td>494359081.0</td>\n",
       "      <td>4213164.99</td>\n",
       "      <td>79149473</td>\n",
       "      <td>8827273.87</td>\n",
       "      <td>121544.0</td>\n",
       "      <td>839178.0</td>\n",
       "    </tr>\n",
       "  </tbody>\n",
       "</table>\n",
       "</div>"
      ],
      "text/plain": [
       "               Customer_ID      Order  Order Quantity  Postal Code  \\\n",
       "Region                                                               \n",
       "AsiaPac            6586010  114901531          158028     283961.0   \n",
       "EMEA               3241185   55919386           78882   18696354.0   \n",
       "Latam              3160665   48372062           70494          0.0   \n",
       "North America     16480247  777510929          133037  494359081.0   \n",
       "\n",
       "                   Profit       Row        Sales  Shipping Cost  Unit Price  \n",
       "Region                                                                       \n",
       "AsiaPac        5370927.26  32565051  10802585.56        47980.0    358071.0  \n",
       "EMEA           2850892.32  15734280   5543252.39        25117.0    164579.0  \n",
       "Latam          2383306.89  13645997   4896470.15        21331.0    138740.0  \n",
       "North America  4213164.99  79149473   8827273.87       121544.0    839178.0  "
      ]
     },
     "execution_count": 8,
     "metadata": {},
     "output_type": "execute_result"
    }
   ],
   "source": [
    "# Make a pivot table and add an aggragate function\n",
    "df_sales.pivot_table(index=\"Region\", aggfunc=\"sum\")"
   ]
  },
  {
   "cell_type": "code",
   "execution_count": 9,
   "id": "29714d09",
   "metadata": {},
   "outputs": [
    {
     "data": {
      "text/html": [
       "<div>\n",
       "<style scoped>\n",
       "    .dataframe tbody tr th:only-of-type {\n",
       "        vertical-align: middle;\n",
       "    }\n",
       "\n",
       "    .dataframe tbody tr th {\n",
       "        vertical-align: top;\n",
       "    }\n",
       "\n",
       "    .dataframe thead th {\n",
       "        text-align: right;\n",
       "    }\n",
       "</style>\n",
       "<table border=\"1\" class=\"dataframe\">\n",
       "  <thead>\n",
       "    <tr style=\"text-align: right;\">\n",
       "      <th></th>\n",
       "      <th>Order Quantity</th>\n",
       "      <th>Sales</th>\n",
       "    </tr>\n",
       "    <tr>\n",
       "      <th>Region</th>\n",
       "      <th></th>\n",
       "      <th></th>\n",
       "    </tr>\n",
       "  </thead>\n",
       "  <tbody>\n",
       "    <tr>\n",
       "      <th>AsiaPac</th>\n",
       "      <td>158028</td>\n",
       "      <td>10802585.56</td>\n",
       "    </tr>\n",
       "    <tr>\n",
       "      <th>EMEA</th>\n",
       "      <td>78882</td>\n",
       "      <td>5543252.39</td>\n",
       "    </tr>\n",
       "    <tr>\n",
       "      <th>Latam</th>\n",
       "      <td>70494</td>\n",
       "      <td>4896470.15</td>\n",
       "    </tr>\n",
       "    <tr>\n",
       "      <th>North America</th>\n",
       "      <td>133037</td>\n",
       "      <td>8827273.87</td>\n",
       "    </tr>\n",
       "  </tbody>\n",
       "</table>\n",
       "</div>"
      ],
      "text/plain": [
       "               Order Quantity        Sales\n",
       "Region                                    \n",
       "AsiaPac                158028  10802585.56\n",
       "EMEA                    78882   5543252.39\n",
       "Latam                   70494   4896470.15\n",
       "North America          133037   8827273.87"
      ]
     },
     "execution_count": 9,
     "metadata": {},
     "output_type": "execute_result"
    }
   ],
   "source": [
    "# Make a pivot table, add an aggragate function and select some columns\n",
    "df_sales.pivot_table(index=\"Region\", values=[\"Order Quantity\", \"Sales\"], aggfunc=\"sum\")"
   ]
  },
  {
   "cell_type": "code",
   "execution_count": 10,
   "id": "cea719be",
   "metadata": {},
   "outputs": [
    {
     "data": {
      "text/html": [
       "<div>\n",
       "<style scoped>\n",
       "    .dataframe tbody tr th:only-of-type {\n",
       "        vertical-align: middle;\n",
       "    }\n",
       "\n",
       "    .dataframe tbody tr th {\n",
       "        vertical-align: top;\n",
       "    }\n",
       "\n",
       "    .dataframe thead tr th {\n",
       "        text-align: left;\n",
       "    }\n",
       "\n",
       "    .dataframe thead tr:last-of-type th {\n",
       "        text-align: right;\n",
       "    }\n",
       "</style>\n",
       "<table border=\"1\" class=\"dataframe\">\n",
       "  <thead>\n",
       "    <tr>\n",
       "      <th></th>\n",
       "      <th colspan=\"17\" halign=\"left\">Sales</th>\n",
       "    </tr>\n",
       "    <tr>\n",
       "      <th>Category</th>\n",
       "      <th>Appliances</th>\n",
       "      <th>Binders and Binder Accessories</th>\n",
       "      <th>Bookcases</th>\n",
       "      <th>Chairs &amp; Chairmats</th>\n",
       "      <th>Computer Peripherals</th>\n",
       "      <th>Copiers and Fax</th>\n",
       "      <th>Envelopes</th>\n",
       "      <th>Labels</th>\n",
       "      <th>Office Furnishings</th>\n",
       "      <th>Office Machines</th>\n",
       "      <th>Paper</th>\n",
       "      <th>Pens &amp; Art Supplies</th>\n",
       "      <th>Rubber Bands</th>\n",
       "      <th>Scissors, Rulers and Trimmers</th>\n",
       "      <th>Storage &amp; Organization</th>\n",
       "      <th>Tables</th>\n",
       "      <th>Telephones and Communication</th>\n",
       "    </tr>\n",
       "    <tr>\n",
       "      <th>Region</th>\n",
       "      <th></th>\n",
       "      <th></th>\n",
       "      <th></th>\n",
       "      <th></th>\n",
       "      <th></th>\n",
       "      <th></th>\n",
       "      <th></th>\n",
       "      <th></th>\n",
       "      <th></th>\n",
       "      <th></th>\n",
       "      <th></th>\n",
       "      <th></th>\n",
       "      <th></th>\n",
       "      <th></th>\n",
       "      <th></th>\n",
       "      <th></th>\n",
       "      <th></th>\n",
       "    </tr>\n",
       "  </thead>\n",
       "  <tbody>\n",
       "    <tr>\n",
       "      <th>AsiaPac</th>\n",
       "      <td>573057.27</td>\n",
       "      <td>654308.88</td>\n",
       "      <td>576166.04</td>\n",
       "      <td>1186949.84</td>\n",
       "      <td>596661.92</td>\n",
       "      <td>722735.0</td>\n",
       "      <td>100527.71</td>\n",
       "      <td>31105.32</td>\n",
       "      <td>420735.46</td>\n",
       "      <td>1677165.18</td>\n",
       "      <td>294879.83</td>\n",
       "      <td>113153.09</td>\n",
       "      <td>12183.46</td>\n",
       "      <td>63473.91</td>\n",
       "      <td>772193.18</td>\n",
       "      <td>1367835.20</td>\n",
       "      <td>1639454.27</td>\n",
       "    </tr>\n",
       "    <tr>\n",
       "      <th>EMEA</th>\n",
       "      <td>254662.15</td>\n",
       "      <td>342786.74</td>\n",
       "      <td>206262.13</td>\n",
       "      <td>593617.20</td>\n",
       "      <td>229379.47</td>\n",
       "      <td>360828.5</td>\n",
       "      <td>58914.56</td>\n",
       "      <td>9030.25</td>\n",
       "      <td>298246.08</td>\n",
       "      <td>783829.26</td>\n",
       "      <td>145371.42</td>\n",
       "      <td>73916.61</td>\n",
       "      <td>4982.68</td>\n",
       "      <td>13876.32</td>\n",
       "      <td>444325.12</td>\n",
       "      <td>997353.02</td>\n",
       "      <td>725870.88</td>\n",
       "    </tr>\n",
       "    <tr>\n",
       "      <th>Latam</th>\n",
       "      <td>190941.82</td>\n",
       "      <td>433209.77</td>\n",
       "      <td>327692.64</td>\n",
       "      <td>436755.58</td>\n",
       "      <td>246408.27</td>\n",
       "      <td>500134.0</td>\n",
       "      <td>67352.78</td>\n",
       "      <td>8790.21</td>\n",
       "      <td>231465.90</td>\n",
       "      <td>587974.85</td>\n",
       "      <td>152198.17</td>\n",
       "      <td>36345.40</td>\n",
       "      <td>5471.19</td>\n",
       "      <td>56330.65</td>\n",
       "      <td>362523.36</td>\n",
       "      <td>551235.97</td>\n",
       "      <td>701639.59</td>\n",
       "    </tr>\n",
       "    <tr>\n",
       "      <th>North America</th>\n",
       "      <td>439911.62</td>\n",
       "      <td>624116.88</td>\n",
       "      <td>486842.01</td>\n",
       "      <td>1137075.08</td>\n",
       "      <td>485273.45</td>\n",
       "      <td>663449.5</td>\n",
       "      <td>143072.51</td>\n",
       "      <td>23843.87</td>\n",
       "      <td>435077.39</td>\n",
       "      <td>1273556.24</td>\n",
       "      <td>242289.07</td>\n",
       "      <td>99564.97</td>\n",
       "      <td>8264.14</td>\n",
       "      <td>38252.35</td>\n",
       "      <td>616593.55</td>\n",
       "      <td>784506.38</td>\n",
       "      <td>1325584.86</td>\n",
       "    </tr>\n",
       "  </tbody>\n",
       "</table>\n",
       "</div>"
      ],
      "text/plain": [
       "                   Sales                                            \\\n",
       "Category      Appliances Binders and Binder Accessories  Bookcases   \n",
       "Region                                                               \n",
       "AsiaPac        573057.27                      654308.88  576166.04   \n",
       "EMEA           254662.15                      342786.74  206262.13   \n",
       "Latam          190941.82                      433209.77  327692.64   \n",
       "North America  439911.62                      624116.88  486842.01   \n",
       "\n",
       "                                                                       \\\n",
       "Category      Chairs & Chairmats Computer Peripherals Copiers and Fax   \n",
       "Region                                                                  \n",
       "AsiaPac               1186949.84            596661.92        722735.0   \n",
       "EMEA                   593617.20            229379.47        360828.5   \n",
       "Latam                  436755.58            246408.27        500134.0   \n",
       "North America         1137075.08            485273.45        663449.5   \n",
       "\n",
       "                                                                       \\\n",
       "Category       Envelopes    Labels Office Furnishings Office Machines   \n",
       "Region                                                                  \n",
       "AsiaPac        100527.71  31105.32          420735.46      1677165.18   \n",
       "EMEA            58914.56   9030.25          298246.08       783829.26   \n",
       "Latam           67352.78   8790.21          231465.90       587974.85   \n",
       "North America  143072.51  23843.87          435077.39      1273556.24   \n",
       "\n",
       "                                                           \\\n",
       "Category           Paper Pens & Art Supplies Rubber Bands   \n",
       "Region                                                      \n",
       "AsiaPac        294879.83           113153.09     12183.46   \n",
       "EMEA           145371.42            73916.61      4982.68   \n",
       "Latam          152198.17            36345.40      5471.19   \n",
       "North America  242289.07            99564.97      8264.14   \n",
       "\n",
       "                                                                    \\\n",
       "Category      Scissors, Rulers and Trimmers Storage & Organization   \n",
       "Region                                                               \n",
       "AsiaPac                            63473.91              772193.18   \n",
       "EMEA                               13876.32              444325.12   \n",
       "Latam                              56330.65              362523.36   \n",
       "North America                      38252.35              616593.55   \n",
       "\n",
       "                                                        \n",
       "Category           Tables Telephones and Communication  \n",
       "Region                                                  \n",
       "AsiaPac        1367835.20                   1639454.27  \n",
       "EMEA            997353.02                    725870.88  \n",
       "Latam           551235.97                    701639.59  \n",
       "North America   784506.38                   1325584.86  "
      ]
     },
     "execution_count": 10,
     "metadata": {},
     "output_type": "execute_result"
    }
   ],
   "source": [
    "# Make a pivot table that showcases the Total sales from each categories per Region. \n",
    "df_sales.pivot_table(index=\"Region\", columns=\"Category\", values=[\"Sales\"], aggfunc=\"sum\")"
   ]
  },
  {
   "cell_type": "markdown",
   "id": "ddbedb02",
   "metadata": {},
   "source": [
    "### Making a Pivot Table"
   ]
  },
  {
   "cell_type": "code",
   "execution_count": 11,
   "id": "1924fffb",
   "metadata": {},
   "outputs": [],
   "source": [
    "# Reading the csv file\n",
    "df_race_pop_raw = pd.read_csv(\"US_county_census_est_race_eth_2010_2019.csv\")"
   ]
  },
  {
   "cell_type": "code",
   "execution_count": 12,
   "id": "a7ce1baf",
   "metadata": {},
   "outputs": [
    {
     "data": {
      "text/html": [
       "<div>\n",
       "<style scoped>\n",
       "    .dataframe tbody tr th:only-of-type {\n",
       "        vertical-align: middle;\n",
       "    }\n",
       "\n",
       "    .dataframe tbody tr th {\n",
       "        vertical-align: top;\n",
       "    }\n",
       "\n",
       "    .dataframe thead th {\n",
       "        text-align: right;\n",
       "    }\n",
       "</style>\n",
       "<table border=\"1\" class=\"dataframe\">\n",
       "  <thead>\n",
       "    <tr style=\"text-align: right;\">\n",
       "      <th></th>\n",
       "      <th>FIPS</th>\n",
       "      <th>STFIPS</th>\n",
       "      <th>COFIPS</th>\n",
       "      <th>state_abbrev</th>\n",
       "      <th>state</th>\n",
       "      <th>county</th>\n",
       "      <th>year</th>\n",
       "      <th>pop</th>\n",
       "      <th>white_pop</th>\n",
       "      <th>black_pop</th>\n",
       "      <th>asian_pop</th>\n",
       "      <th>indian_pop</th>\n",
       "      <th>pacific_pop</th>\n",
       "      <th>two_pop</th>\n",
       "      <th>not_hisp_pop</th>\n",
       "      <th>hisp_pop</th>\n",
       "    </tr>\n",
       "  </thead>\n",
       "  <tbody>\n",
       "    <tr>\n",
       "      <th>0</th>\n",
       "      <td>1001</td>\n",
       "      <td>1</td>\n",
       "      <td>1</td>\n",
       "      <td>AL</td>\n",
       "      <td>Alabama</td>\n",
       "      <td>Autauga</td>\n",
       "      <td>2010</td>\n",
       "      <td>54571</td>\n",
       "      <td>43297</td>\n",
       "      <td>9689</td>\n",
       "      <td>484</td>\n",
       "      <td>258</td>\n",
       "      <td>47</td>\n",
       "      <td>796</td>\n",
       "      <td>53261</td>\n",
       "      <td>1310</td>\n",
       "    </tr>\n",
       "    <tr>\n",
       "      <th>1</th>\n",
       "      <td>1001</td>\n",
       "      <td>1</td>\n",
       "      <td>1</td>\n",
       "      <td>AL</td>\n",
       "      <td>Alabama</td>\n",
       "      <td>Autauga</td>\n",
       "      <td>2011</td>\n",
       "      <td>55227</td>\n",
       "      <td>43699</td>\n",
       "      <td>9883</td>\n",
       "      <td>514</td>\n",
       "      <td>261</td>\n",
       "      <td>51</td>\n",
       "      <td>819</td>\n",
       "      <td>53888</td>\n",
       "      <td>1339</td>\n",
       "    </tr>\n",
       "    <tr>\n",
       "      <th>2</th>\n",
       "      <td>1001</td>\n",
       "      <td>1</td>\n",
       "      <td>1</td>\n",
       "      <td>AL</td>\n",
       "      <td>Alabama</td>\n",
       "      <td>Autauga</td>\n",
       "      <td>2012</td>\n",
       "      <td>54954</td>\n",
       "      <td>43315</td>\n",
       "      <td>9949</td>\n",
       "      <td>552</td>\n",
       "      <td>275</td>\n",
       "      <td>44</td>\n",
       "      <td>819</td>\n",
       "      <td>53639</td>\n",
       "      <td>1315</td>\n",
       "    </tr>\n",
       "    <tr>\n",
       "      <th>3</th>\n",
       "      <td>1001</td>\n",
       "      <td>1</td>\n",
       "      <td>1</td>\n",
       "      <td>AL</td>\n",
       "      <td>Alabama</td>\n",
       "      <td>Autauga</td>\n",
       "      <td>2013</td>\n",
       "      <td>54727</td>\n",
       "      <td>42943</td>\n",
       "      <td>9984</td>\n",
       "      <td>561</td>\n",
       "      <td>279</td>\n",
       "      <td>46</td>\n",
       "      <td>914</td>\n",
       "      <td>53363</td>\n",
       "      <td>1364</td>\n",
       "    </tr>\n",
       "    <tr>\n",
       "      <th>4</th>\n",
       "      <td>1001</td>\n",
       "      <td>1</td>\n",
       "      <td>1</td>\n",
       "      <td>AL</td>\n",
       "      <td>Alabama</td>\n",
       "      <td>Autauga</td>\n",
       "      <td>2014</td>\n",
       "      <td>54893</td>\n",
       "      <td>42945</td>\n",
       "      <td>10103</td>\n",
       "      <td>573</td>\n",
       "      <td>279</td>\n",
       "      <td>50</td>\n",
       "      <td>943</td>\n",
       "      <td>53461</td>\n",
       "      <td>1432</td>\n",
       "    </tr>\n",
       "    <tr>\n",
       "      <th>...</th>\n",
       "      <td>...</td>\n",
       "      <td>...</td>\n",
       "      <td>...</td>\n",
       "      <td>...</td>\n",
       "      <td>...</td>\n",
       "      <td>...</td>\n",
       "      <td>...</td>\n",
       "      <td>...</td>\n",
       "      <td>...</td>\n",
       "      <td>...</td>\n",
       "      <td>...</td>\n",
       "      <td>...</td>\n",
       "      <td>...</td>\n",
       "      <td>...</td>\n",
       "      <td>...</td>\n",
       "      <td>...</td>\n",
       "    </tr>\n",
       "    <tr>\n",
       "      <th>31405</th>\n",
       "      <td>56045</td>\n",
       "      <td>56</td>\n",
       "      <td>45</td>\n",
       "      <td>WY</td>\n",
       "      <td>Wyoming</td>\n",
       "      <td>Weston</td>\n",
       "      <td>2015</td>\n",
       "      <td>7208</td>\n",
       "      <td>6835</td>\n",
       "      <td>39</td>\n",
       "      <td>81</td>\n",
       "      <td>107</td>\n",
       "      <td>2</td>\n",
       "      <td>144</td>\n",
       "      <td>6923</td>\n",
       "      <td>285</td>\n",
       "    </tr>\n",
       "    <tr>\n",
       "      <th>31406</th>\n",
       "      <td>56045</td>\n",
       "      <td>56</td>\n",
       "      <td>45</td>\n",
       "      <td>WY</td>\n",
       "      <td>Wyoming</td>\n",
       "      <td>Weston</td>\n",
       "      <td>2016</td>\n",
       "      <td>7220</td>\n",
       "      <td>6826</td>\n",
       "      <td>38</td>\n",
       "      <td>88</td>\n",
       "      <td>108</td>\n",
       "      <td>2</td>\n",
       "      <td>158</td>\n",
       "      <td>6924</td>\n",
       "      <td>296</td>\n",
       "    </tr>\n",
       "    <tr>\n",
       "      <th>31407</th>\n",
       "      <td>56045</td>\n",
       "      <td>56</td>\n",
       "      <td>45</td>\n",
       "      <td>WY</td>\n",
       "      <td>Wyoming</td>\n",
       "      <td>Weston</td>\n",
       "      <td>2017</td>\n",
       "      <td>6968</td>\n",
       "      <td>6558</td>\n",
       "      <td>44</td>\n",
       "      <td>97</td>\n",
       "      <td>114</td>\n",
       "      <td>2</td>\n",
       "      <td>153</td>\n",
       "      <td>6681</td>\n",
       "      <td>287</td>\n",
       "    </tr>\n",
       "    <tr>\n",
       "      <th>31408</th>\n",
       "      <td>56045</td>\n",
       "      <td>56</td>\n",
       "      <td>45</td>\n",
       "      <td>WY</td>\n",
       "      <td>Wyoming</td>\n",
       "      <td>Weston</td>\n",
       "      <td>2018</td>\n",
       "      <td>6924</td>\n",
       "      <td>6474</td>\n",
       "      <td>47</td>\n",
       "      <td>109</td>\n",
       "      <td>125</td>\n",
       "      <td>2</td>\n",
       "      <td>167</td>\n",
       "      <td>6651</td>\n",
       "      <td>273</td>\n",
       "    </tr>\n",
       "    <tr>\n",
       "      <th>31409</th>\n",
       "      <td>56045</td>\n",
       "      <td>56</td>\n",
       "      <td>45</td>\n",
       "      <td>WY</td>\n",
       "      <td>Wyoming</td>\n",
       "      <td>Weston</td>\n",
       "      <td>2019</td>\n",
       "      <td>6927</td>\n",
       "      <td>6454</td>\n",
       "      <td>48</td>\n",
       "      <td>117</td>\n",
       "      <td>131</td>\n",
       "      <td>2</td>\n",
       "      <td>175</td>\n",
       "      <td>6642</td>\n",
       "      <td>285</td>\n",
       "    </tr>\n",
       "  </tbody>\n",
       "</table>\n",
       "<p>31410 rows × 16 columns</p>\n",
       "</div>"
      ],
      "text/plain": [
       "        FIPS  STFIPS  COFIPS state_abbrev    state   county  year    pop  \\\n",
       "0       1001       1       1           AL  Alabama  Autauga  2010  54571   \n",
       "1       1001       1       1           AL  Alabama  Autauga  2011  55227   \n",
       "2       1001       1       1           AL  Alabama  Autauga  2012  54954   \n",
       "3       1001       1       1           AL  Alabama  Autauga  2013  54727   \n",
       "4       1001       1       1           AL  Alabama  Autauga  2014  54893   \n",
       "...      ...     ...     ...          ...      ...      ...   ...    ...   \n",
       "31405  56045      56      45           WY  Wyoming   Weston  2015   7208   \n",
       "31406  56045      56      45           WY  Wyoming   Weston  2016   7220   \n",
       "31407  56045      56      45           WY  Wyoming   Weston  2017   6968   \n",
       "31408  56045      56      45           WY  Wyoming   Weston  2018   6924   \n",
       "31409  56045      56      45           WY  Wyoming   Weston  2019   6927   \n",
       "\n",
       "       white_pop  black_pop  asian_pop  indian_pop  pacific_pop  two_pop  \\\n",
       "0          43297       9689        484         258           47      796   \n",
       "1          43699       9883        514         261           51      819   \n",
       "2          43315       9949        552         275           44      819   \n",
       "3          42943       9984        561         279           46      914   \n",
       "4          42945      10103        573         279           50      943   \n",
       "...          ...        ...        ...         ...          ...      ...   \n",
       "31405       6835         39         81         107            2      144   \n",
       "31406       6826         38         88         108            2      158   \n",
       "31407       6558         44         97         114            2      153   \n",
       "31408       6474         47        109         125            2      167   \n",
       "31409       6454         48        117         131            2      175   \n",
       "\n",
       "       not_hisp_pop  hisp_pop  \n",
       "0             53261      1310  \n",
       "1             53888      1339  \n",
       "2             53639      1315  \n",
       "3             53363      1364  \n",
       "4             53461      1432  \n",
       "...             ...       ...  \n",
       "31405          6923       285  \n",
       "31406          6924       296  \n",
       "31407          6681       287  \n",
       "31408          6651       273  \n",
       "31409          6642       285  \n",
       "\n",
       "[31410 rows x 16 columns]"
      ]
     },
     "execution_count": 12,
     "metadata": {},
     "output_type": "execute_result"
    }
   ],
   "source": [
    "# First look at the dataset\n",
    "df_race_pop_raw"
   ]
  },
  {
   "cell_type": "markdown",
   "id": "31b5153d",
   "metadata": {},
   "source": [
    "####  .pivot(): returns reshaped dataframe organized by given index/column values(\"pivot without aggregation\")"
   ]
  },
  {
   "cell_type": "code",
   "execution_count": 13,
   "id": "8796d82b",
   "metadata": {},
   "outputs": [],
   "source": [
    "# Dropping null values\n",
    "# dropna() method\n",
    "df_race_pop_raw.dropna(inplace=True)"
   ]
  },
  {
   "cell_type": "code",
   "execution_count": 14,
   "id": "7a7bafcc",
   "metadata": {},
   "outputs": [],
   "source": [
    "# Making a pivot table\n",
    "df_hisp_pop_pivot_table = df_race_pop_raw.pivot_table(index=\"year\", columns=\"state\", values=\"hisp_pop\")"
   ]
  },
  {
   "cell_type": "code",
   "execution_count": 15,
   "id": "1dece532",
   "metadata": {},
   "outputs": [],
   "source": [
    "# Selecting some States\n",
    "df_hisp_pop = df_hisp_pop_pivot_table[['Hawaii', 'Georgia', 'Florida', 'Alabama', 'California', 'Michigan', 'New York', 'Vermont']]"
   ]
  },
  {
   "cell_type": "code",
   "execution_count": 16,
   "id": "e6a8f621",
   "metadata": {},
   "outputs": [
    {
     "data": {
      "text/html": [
       "<div>\n",
       "<style scoped>\n",
       "    .dataframe tbody tr th:only-of-type {\n",
       "        vertical-align: middle;\n",
       "    }\n",
       "\n",
       "    .dataframe tbody tr th {\n",
       "        vertical-align: top;\n",
       "    }\n",
       "\n",
       "    .dataframe thead th {\n",
       "        text-align: right;\n",
       "    }\n",
       "</style>\n",
       "<table border=\"1\" class=\"dataframe\">\n",
       "  <thead>\n",
       "    <tr style=\"text-align: right;\">\n",
       "      <th>state</th>\n",
       "      <th>Hawaii</th>\n",
       "      <th>Georgia</th>\n",
       "      <th>Florida</th>\n",
       "      <th>Alabama</th>\n",
       "      <th>California</th>\n",
       "      <th>Michigan</th>\n",
       "      <th>New York</th>\n",
       "      <th>Vermont</th>\n",
       "    </tr>\n",
       "    <tr>\n",
       "      <th>year</th>\n",
       "      <th></th>\n",
       "      <th></th>\n",
       "      <th></th>\n",
       "      <th></th>\n",
       "      <th></th>\n",
       "      <th></th>\n",
       "      <th></th>\n",
       "      <th></th>\n",
       "    </tr>\n",
       "  </thead>\n",
       "  <tbody>\n",
       "    <tr>\n",
       "      <th>2010</th>\n",
       "      <td>24168.4</td>\n",
       "      <td>5369.113208</td>\n",
       "      <td>63041.880597</td>\n",
       "      <td>2770.179104</td>\n",
       "      <td>241615.844828</td>\n",
       "      <td>5257.325301</td>\n",
       "      <td>55111.645161</td>\n",
       "      <td>657.714286</td>\n",
       "    </tr>\n",
       "    <tr>\n",
       "      <th>2011</th>\n",
       "      <td>25491.0</td>\n",
       "      <td>5486.610063</td>\n",
       "      <td>65318.358209</td>\n",
       "      <td>2832.731343</td>\n",
       "      <td>246137.810345</td>\n",
       "      <td>5381.951807</td>\n",
       "      <td>56389.241935</td>\n",
       "      <td>706.428571</td>\n",
       "    </tr>\n",
       "    <tr>\n",
       "      <th>2012</th>\n",
       "      <td>26538.2</td>\n",
       "      <td>5574.138365</td>\n",
       "      <td>67254.761194</td>\n",
       "      <td>2845.597015</td>\n",
       "      <td>249419.310345</td>\n",
       "      <td>5520.915663</td>\n",
       "      <td>57302.596774</td>\n",
       "      <td>726.714286</td>\n",
       "    </tr>\n",
       "    <tr>\n",
       "      <th>2013</th>\n",
       "      <td>27574.6</td>\n",
       "      <td>5645.371069</td>\n",
       "      <td>69416.940299</td>\n",
       "      <td>2882.552239</td>\n",
       "      <td>252668.982759</td>\n",
       "      <td>5633.614458</td>\n",
       "      <td>58092.500000</td>\n",
       "      <td>760.857143</td>\n",
       "    </tr>\n",
       "    <tr>\n",
       "      <th>2014</th>\n",
       "      <td>28359.2</td>\n",
       "      <td>5752.553459</td>\n",
       "      <td>71696.402985</td>\n",
       "      <td>2920.507463</td>\n",
       "      <td>255964.017241</td>\n",
       "      <td>5743.542169</td>\n",
       "      <td>58722.645161</td>\n",
       "      <td>777.357143</td>\n",
       "    </tr>\n",
       "    <tr>\n",
       "      <th>2015</th>\n",
       "      <td>29063.0</td>\n",
       "      <td>5905.610063</td>\n",
       "      <td>74340.850746</td>\n",
       "      <td>2980.358209</td>\n",
       "      <td>259148.741379</td>\n",
       "      <td>5845.445783</td>\n",
       "      <td>59314.516129</td>\n",
       "      <td>800.071429</td>\n",
       "    </tr>\n",
       "    <tr>\n",
       "      <th>2016</th>\n",
       "      <td>29718.4</td>\n",
       "      <td>6091.075472</td>\n",
       "      <td>77310.358209</td>\n",
       "      <td>3065.373134</td>\n",
       "      <td>262167.741379</td>\n",
       "      <td>5987.084337</td>\n",
       "      <td>59800.967742</td>\n",
       "      <td>830.428571</td>\n",
       "    </tr>\n",
       "    <tr>\n",
       "      <th>2017</th>\n",
       "      <td>29986.0</td>\n",
       "      <td>6255.163522</td>\n",
       "      <td>80127.761194</td>\n",
       "      <td>3140.447761</td>\n",
       "      <td>264729.913793</td>\n",
       "      <td>6113.915663</td>\n",
       "      <td>60082.564516</td>\n",
       "      <td>866.642857</td>\n",
       "    </tr>\n",
       "    <tr>\n",
       "      <th>2018</th>\n",
       "      <td>30178.2</td>\n",
       "      <td>6430.000000</td>\n",
       "      <td>82654.582090</td>\n",
       "      <td>3241.656716</td>\n",
       "      <td>266773.431034</td>\n",
       "      <td>6246.710843</td>\n",
       "      <td>60379.693548</td>\n",
       "      <td>893.142857</td>\n",
       "    </tr>\n",
       "    <tr>\n",
       "      <th>2019</th>\n",
       "      <td>30172.8</td>\n",
       "      <td>6595.748428</td>\n",
       "      <td>84535.223881</td>\n",
       "      <td>3332.507463</td>\n",
       "      <td>268532.413793</td>\n",
       "      <td>6363.915663</td>\n",
       "      <td>60500.935484</td>\n",
       "      <td>908.500000</td>\n",
       "    </tr>\n",
       "  </tbody>\n",
       "</table>\n",
       "</div>"
      ],
      "text/plain": [
       "state   Hawaii      Georgia       Florida      Alabama     California  \\\n",
       "year                                                                    \n",
       "2010   24168.4  5369.113208  63041.880597  2770.179104  241615.844828   \n",
       "2011   25491.0  5486.610063  65318.358209  2832.731343  246137.810345   \n",
       "2012   26538.2  5574.138365  67254.761194  2845.597015  249419.310345   \n",
       "2013   27574.6  5645.371069  69416.940299  2882.552239  252668.982759   \n",
       "2014   28359.2  5752.553459  71696.402985  2920.507463  255964.017241   \n",
       "2015   29063.0  5905.610063  74340.850746  2980.358209  259148.741379   \n",
       "2016   29718.4  6091.075472  77310.358209  3065.373134  262167.741379   \n",
       "2017   29986.0  6255.163522  80127.761194  3140.447761  264729.913793   \n",
       "2018   30178.2  6430.000000  82654.582090  3241.656716  266773.431034   \n",
       "2019   30172.8  6595.748428  84535.223881  3332.507463  268532.413793   \n",
       "\n",
       "state     Michigan      New York     Vermont  \n",
       "year                                          \n",
       "2010   5257.325301  55111.645161  657.714286  \n",
       "2011   5381.951807  56389.241935  706.428571  \n",
       "2012   5520.915663  57302.596774  726.714286  \n",
       "2013   5633.614458  58092.500000  760.857143  \n",
       "2014   5743.542169  58722.645161  777.357143  \n",
       "2015   5845.445783  59314.516129  800.071429  \n",
       "2016   5987.084337  59800.967742  830.428571  \n",
       "2017   6113.915663  60082.564516  866.642857  \n",
       "2018   6246.710843  60379.693548  893.142857  \n",
       "2019   6363.915663  60500.935484  908.500000  "
      ]
     },
     "execution_count": 16,
     "metadata": {},
     "output_type": "execute_result"
    }
   ],
   "source": [
    "# Showing pivot table\n",
    "df_hisp_pop"
   ]
  },
  {
   "cell_type": "markdown",
   "id": "bb8ae938",
   "metadata": {},
   "source": [
    "###  LINE PLOT"
   ]
  },
  {
   "cell_type": "code",
   "execution_count": 17,
   "id": "7fb3d09d",
   "metadata": {},
   "outputs": [
    {
     "data": {
      "text/plain": [
       "<AxesSubplot:xlabel='Year', ylabel='Hispanic population'>"
      ]
     },
     "execution_count": 17,
     "metadata": {},
     "output_type": "execute_result"
    },
    {
     "data": {
      "image/png": "[encoded data removed]",
      "text/plain": [
       "<Figure size 432x288 with 1 Axes>"
      ]
     },
     "metadata": {
      "needs_background": "light"
     },
     "output_type": "display_data"
    }
   ],
   "source": [
    "# Display Line Plot with kind= and edit x,y labels\n",
    "df_hisp_pop.plot(kind='line', xlabel='Year', ylabel='Hispanic population')"
   ]
  },
  {
   "cell_type": "code",
   "execution_count": 18,
   "id": "d6f6565a",
   "metadata": {},
   "outputs": [
    {
     "data": {
      "text/plain": [
       "<AxesSubplot:title={'center':'Hispanic Population/State (2010-2019)'}, xlabel='year', ylabel='Hispanic'>"
      ]
     },
     "execution_count": 18,
     "metadata": {},
     "output_type": "execute_result"
    },
    {
     "data": {
      "image/png": "[encoded data removed]",
      "text/plain": [
       "<Figure size 432x288 with 1 Axes>"
      ]
     },
     "metadata": {
      "needs_background": "light"
     },
     "output_type": "display_data"
    }
   ],
   "source": [
    "# Add a Title \n",
    "df_hisp_pop_pivot_table.plot(kind='line', ylabel='Hispanic', title='Hispanic Population/State (2010-2019)')"
   ]
  },
  {
   "cell_type": "code",
   "execution_count": 19,
   "id": "661607af",
   "metadata": {},
   "outputs": [
    {
     "data": {
      "text/plain": [
       "<AxesSubplot:title={'center':'Hispanic Population/State (2010-2019)'}, xlabel='year', ylabel='Hispanic'>"
      ]
     },
     "execution_count": 19,
     "metadata": {},
     "output_type": "execute_result"
    },
    {
     "data": {
      "image/png": "[encoded data removed]",
      "text/plain": [
       "<Figure size 576x288 with 1 Axes>"
      ]
     },
     "metadata": {
      "needs_background": "light"
     },
     "output_type": "display_data"
    }
   ],
   "source": [
    "# Change figure size with figsize=(x, y)\n",
    "df_hisp_pop.plot(kind='bar', ylabel='Hispanic', title='Hispanic Population/State (2010-2019)', figsize=(8, 4))"
   ]
  },
  {
   "cell_type": "code",
   "execution_count": 20,
   "id": "622350d6",
   "metadata": {},
   "outputs": [
    {
     "data": {
      "text/plain": [
       "<AxesSubplot:ylabel='year'>"
      ]
     },
     "execution_count": 20,
     "metadata": {},
     "output_type": "execute_result"
    },
    {
     "data": {
      "image/png": "[encoded data removed]",
      "text/plain": [
       "<Figure size 432x288 with 1 Axes>"
      ]
     },
     "metadata": {
      "needs_background": "light"
     },
     "output_type": "display_data"
    }
   ],
   "source": [
    "df_hisp_pop.plot(kind='barh')"
   ]
  },
  {
   "cell_type": "code",
   "execution_count": 21,
   "id": "d33e6169",
   "metadata": {},
   "outputs": [
    {
     "data": {
      "text/plain": [
       "<AxesSubplot:ylabel='Frequency'>"
      ]
     },
     "execution_count": 21,
     "metadata": {},
     "output_type": "execute_result"
    },
    {
     "data": {
      "image/png": "[encoded data removed]",
      "text/plain": [
       "<Figure size 432x288 with 1 Axes>"
      ]
     },
     "metadata": {
      "needs_background": "light"
     },
     "output_type": "display_data"
    }
   ],
   "source": [
    "df_hisp_pop.plot(kind='hist')"
   ]
  },
  {
   "cell_type": "code",
   "execution_count": 24,
   "id": "6c0fee56",
   "metadata": {},
   "outputs": [
    {
     "data": {
      "text/plain": [
       "<AxesSubplot:>"
      ]
     },
     "execution_count": 24,
     "metadata": {},
     "output_type": "execute_result"
    },
    {
     "data": {
      "image/png": "[encoded data removed]",
      "text/plain": [
       "<Figure size 576x288 with 1 Axes>"
      ]
     },
     "metadata": {
      "needs_background": "light"
     },
     "output_type": "display_data"
    }
   ],
   "source": [
    "df_hisp_pop.plot(kind='box', figsize=(8, 4))"
   ]
  },
  {
   "cell_type": "code",
   "execution_count": 25,
   "id": "229b0e26",
   "metadata": {},
   "outputs": [
    {
     "data": {
      "text/plain": [
       "<AxesSubplot:ylabel='Density'>"
      ]
     },
     "execution_count": 25,
     "metadata": {},
     "output_type": "execute_result"
    },
    {
     "data": {
      "image/png": "[encoded data removed]",
      "text/plain": [
       "<Figure size 432x288 with 1 Axes>"
      ]
     },
     "metadata": {
      "needs_background": "light"
     },
     "output_type": "display_data"
    }
   ],
   "source": [
    "df_hisp_pop.plot(kind='kde')"
   ]
  },
  {
   "cell_type": "code",
   "execution_count": 26,
   "id": "f7eee133",
   "metadata": {},
   "outputs": [
    {
     "data": {
      "text/plain": [
       "<AxesSubplot:ylabel='Density'>"
      ]
     },
     "execution_count": 26,
     "metadata": {},
     "output_type": "execute_result"
    },
    {
     "data": {
      "image/png": "[encoded data removed]",
      "text/plain": [
       "<Figure size 432x288 with 1 Axes>"
      ]
     },
     "metadata": {
      "needs_background": "light"
     },
     "output_type": "display_data"
    }
   ],
   "source": [
    "df_hisp_pop.plot(kind='density')"
   ]
  },
  {
   "cell_type": "code",
   "execution_count": 27,
   "id": "d14375f6",
   "metadata": {},
   "outputs": [
    {
     "data": {
      "text/plain": [
       "<AxesSubplot:xlabel='year'>"
      ]
     },
     "execution_count": 27,
     "metadata": {},
     "output_type": "execute_result"
    },
    {
     "data": {
      "image/png": "[encoded data removed]",
      "text/plain": [
       "<Figure size 432x288 with 1 Axes>"
      ]
     },
     "metadata": {
      "needs_background": "light"
     },
     "output_type": "display_data"
    }
   ],
   "source": [
    "df_hisp_pop.plot(kind='area')"
   ]
  },
  {
   "cell_type": "markdown",
   "id": "ebaa49f4",
   "metadata": {},
   "source": [
    "### Single barplot"
   ]
  },
  {
   "cell_type": "code",
   "execution_count": 28,
   "id": "c06fd80d",
   "metadata": {},
   "outputs": [],
   "source": [
    "# Selecting only one year (2018)\n",
    "df_hisp_pop_2018 = df_hisp_pop[df_hisp_pop.index.isin([2018])]"
   ]
  },
  {
   "cell_type": "code",
   "execution_count": 29,
   "id": "2b8cdd89",
   "metadata": {},
   "outputs": [
    {
     "data": {
      "text/html": [
       "<div>\n",
       "<style scoped>\n",
       "    .dataframe tbody tr th:only-of-type {\n",
       "        vertical-align: middle;\n",
       "    }\n",
       "\n",
       "    .dataframe tbody tr th {\n",
       "        vertical-align: top;\n",
       "    }\n",
       "\n",
       "    .dataframe thead th {\n",
       "        text-align: right;\n",
       "    }\n",
       "</style>\n",
       "<table border=\"1\" class=\"dataframe\">\n",
       "  <thead>\n",
       "    <tr style=\"text-align: right;\">\n",
       "      <th>state</th>\n",
       "      <th>Hawaii</th>\n",
       "      <th>Georgia</th>\n",
       "      <th>Florida</th>\n",
       "      <th>Alabama</th>\n",
       "      <th>California</th>\n",
       "      <th>Michigan</th>\n",
       "      <th>New York</th>\n",
       "      <th>Vermont</th>\n",
       "    </tr>\n",
       "    <tr>\n",
       "      <th>year</th>\n",
       "      <th></th>\n",
       "      <th></th>\n",
       "      <th></th>\n",
       "      <th></th>\n",
       "      <th></th>\n",
       "      <th></th>\n",
       "      <th></th>\n",
       "      <th></th>\n",
       "    </tr>\n",
       "  </thead>\n",
       "  <tbody>\n",
       "    <tr>\n",
       "      <th>2018</th>\n",
       "      <td>30178.2</td>\n",
       "      <td>6430.0</td>\n",
       "      <td>82654.58209</td>\n",
       "      <td>3241.656716</td>\n",
       "      <td>266773.431034</td>\n",
       "      <td>6246.710843</td>\n",
       "      <td>60379.693548</td>\n",
       "      <td>893.142857</td>\n",
       "    </tr>\n",
       "  </tbody>\n",
       "</table>\n",
       "</div>"
      ],
      "text/plain": [
       "state   Hawaii  Georgia      Florida      Alabama     California     Michigan  \\\n",
       "year                                                                            \n",
       "2018   30178.2   6430.0  82654.58209  3241.656716  266773.431034  6246.710843   \n",
       "\n",
       "state      New York     Vermont  \n",
       "year                             \n",
       "2018   60379.693548  893.142857  "
      ]
     },
     "execution_count": 29,
     "metadata": {},
     "output_type": "execute_result"
    }
   ],
   "source": [
    "# Showing new dataframe\n",
    "df_hisp_pop_2018"
   ]
  },
  {
   "cell_type": "code",
   "execution_count": 30,
   "id": "9f61586d",
   "metadata": {},
   "outputs": [],
   "source": [
    "df_hisp_pop_2018 = df_hisp_pop_2018.T"
   ]
  },
  {
   "cell_type": "code",
   "execution_count": 31,
   "id": "455aa0a0",
   "metadata": {},
   "outputs": [
    {
     "data": {
      "text/plain": [
       "<AxesSubplot:title={'center':'Hispanic Population/state in 2018'}, xlabel='Year', ylabel='Population'>"
      ]
     },
     "execution_count": 31,
     "metadata": {},
     "output_type": "execute_result"
    },
    {
     "data": {
      "image/png": "[encoded data removed]",
      "text/plain": [
       "<Figure size 432x288 with 1 Axes>"
      ]
     },
     "metadata": {
      "needs_background": "light"
     },
     "output_type": "display_data"
    }
   ],
   "source": [
    "df_hisp_pop_2018.plot(kind='bar', color='lightBlue', xlabel='Year', ylabel='Population', title='Hispanic Population/state in 2018')"
   ]
  },
  {
   "cell_type": "markdown",
   "id": "a3110c03",
   "metadata": {},
   "source": [
    "### Multiple barplots"
   ]
  },
  {
   "cell_type": "code",
   "execution_count": 32,
   "id": "065360a6",
   "metadata": {},
   "outputs": [
    {
     "data": {
      "text/plain": [
       "<AxesSubplot:xlabel='year'>"
      ]
     },
     "execution_count": 32,
     "metadata": {},
     "output_type": "execute_result"
    },
    {
     "data": {
      "image/png": "[encoded data removed]",
      "text/plain": [
       "<Figure size 432x288 with 1 Axes>"
      ]
     },
     "metadata": {
      "needs_background": "light"
     },
     "output_type": "display_data"
    }
   ],
   "source": [
    "# Making the barplot\n",
    "df_hisp_pop.plot(kind='bar')"
   ]
  },
  {
   "cell_type": "markdown",
   "id": "9773c5e6",
   "metadata": {},
   "source": [
    "### Barplot grouped by \"n\" variables"
   ]
  },
  {
   "cell_type": "code",
   "execution_count": 33,
   "id": "dd714978",
   "metadata": {},
   "outputs": [],
   "source": [
    "# Selecting a few years\n",
    "df_hisp_pop_5years = df_hisp_pop[df_hisp_pop.index.isin([2014, 2015, 2016, 2017, 2018])]"
   ]
  },
  {
   "cell_type": "code",
   "execution_count": 34,
   "id": "1b7d2500",
   "metadata": {},
   "outputs": [
    {
     "data": {
      "text/plain": [
       "<AxesSubplot:xlabel='year'>"
      ]
     },
     "execution_count": 34,
     "metadata": {},
     "output_type": "execute_result"
    },
    {
     "data": {
      "image/png": "[encoded data removed]",
      "text/plain": [
       "<Figure size 432x288 with 1 Axes>"
      ]
     },
     "metadata": {
      "needs_background": "light"
     },
     "output_type": "display_data"
    }
   ],
   "source": [
    "# Making a grouped barplot\n",
    "df_hisp_pop_5years.plot(kind='bar')"
   ]
  },
  {
   "cell_type": "markdown",
   "id": "61dd3dbc",
   "metadata": {},
   "source": [
    "### PieChart"
   ]
  },
  {
   "cell_type": "code",
   "execution_count": 58,
   "id": "ea8174f5",
   "metadata": {},
   "outputs": [
    {
     "data": {
      "text/html": [
       "<div>\n",
       "<style scoped>\n",
       "    .dataframe tbody tr th:only-of-type {\n",
       "        vertical-align: middle;\n",
       "    }\n",
       "\n",
       "    .dataframe tbody tr th {\n",
       "        vertical-align: top;\n",
       "    }\n",
       "\n",
       "    .dataframe thead th {\n",
       "        text-align: right;\n",
       "    }\n",
       "</style>\n",
       "<table border=\"1\" class=\"dataframe\">\n",
       "  <thead>\n",
       "    <tr style=\"text-align: right;\">\n",
       "      <th>year</th>\n",
       "      <th>2018</th>\n",
       "    </tr>\n",
       "    <tr>\n",
       "      <th>state</th>\n",
       "      <th></th>\n",
       "    </tr>\n",
       "  </thead>\n",
       "  <tbody>\n",
       "    <tr>\n",
       "      <th>Hawaii</th>\n",
       "      <td>30178.200000</td>\n",
       "    </tr>\n",
       "    <tr>\n",
       "      <th>Georgia</th>\n",
       "      <td>6430.000000</td>\n",
       "    </tr>\n",
       "    <tr>\n",
       "      <th>Florida</th>\n",
       "      <td>82654.582090</td>\n",
       "    </tr>\n",
       "    <tr>\n",
       "      <th>Alabama</th>\n",
       "      <td>3241.656716</td>\n",
       "    </tr>\n",
       "    <tr>\n",
       "      <th>California</th>\n",
       "      <td>266773.431034</td>\n",
       "    </tr>\n",
       "    <tr>\n",
       "      <th>Michigan</th>\n",
       "      <td>6246.710843</td>\n",
       "    </tr>\n",
       "    <tr>\n",
       "      <th>New York</th>\n",
       "      <td>60379.693548</td>\n",
       "    </tr>\n",
       "    <tr>\n",
       "      <th>Vermont</th>\n",
       "      <td>893.142857</td>\n",
       "    </tr>\n",
       "  </tbody>\n",
       "</table>\n",
       "</div>"
      ],
      "text/plain": [
       "year                 2018\n",
       "state                    \n",
       "Hawaii       30178.200000\n",
       "Georgia       6430.000000\n",
       "Florida      82654.582090\n",
       "Alabama       3241.656716\n",
       "California  266773.431034\n",
       "Michigan      6246.710843\n",
       "New York     60379.693548\n",
       "Vermont        893.142857"
      ]
     },
     "execution_count": 58,
     "metadata": {},
     "output_type": "execute_result"
    }
   ],
   "source": [
    "df_hisp_pop_2018\n"
   ]
  },
  {
   "cell_type": "code",
   "execution_count": 59,
   "id": "4a7d3cc7",
   "metadata": {},
   "outputs": [],
   "source": [
    "# Changing column name\n",
    "df_hisp_pop_2018.rename(columns={2018:'2018'}, inplace=True)"
   ]
  },
  {
   "cell_type": "code",
   "execution_count": 60,
   "id": "3daff2dc",
   "metadata": {},
   "outputs": [
    {
     "data": {
      "image/png": "[encoded data removed]",
      "text/plain": [
       "<Figure size 432x288 with 1 Axes>"
      ]
     },
     "metadata": {},
     "output_type": "display_data"
    }
   ],
   "source": [
    "# Making the plot\n",
    "df_hisp_pop_2018.plot(kind='pie', y='2018', title='Hispanic Population/state in 2018(%)')\n",
    "# Save plot\n",
    "plt.savefig('hisp_pop_plot.png')\n",
    "# Shot plot\n",
    "plt.show()"
   ]
  },
  {
   "cell_type": "markdown",
   "id": "3f7fdd50",
   "metadata": {},
   "source": [
    "### Save Plot and Export Pivot Table"
   ]
  },
  {
   "cell_type": "markdown",
   "id": "09a6f58e",
   "metadata": {},
   "source": [
    "saving"
   ]
  },
  {
   "cell_type": "code",
   "execution_count": 62,
   "id": "1a128702",
   "metadata": {},
   "outputs": [
    {
     "data": {
      "image/png": "[encoded data removed]",
      "text/plain": [
       "<Figure size 432x288 with 1 Axes>"
      ]
     },
     "metadata": {
      "needs_background": "light"
     },
     "output_type": "display_data"
    }
   ],
   "source": [
    "# Add a Title \n",
    "df_hisp_pop_pivot_table.plot(kind='line', ylabel='Hispanic population', title='Hispanic Population/State (2010-2019)')\n",
    "\n",
    "# Save plot\n",
    "plt.savefig('hisp_pop_plot.png')\n",
    "# Shot plot\n",
    "plt.show()"
   ]
  },
  {
   "cell_type": "markdown",
   "id": "9743bb5e",
   "metadata": {},
   "source": [
    "Exporting"
   ]
  },
  {
   "cell_type": "code",
   "execution_count": 63,
   "id": "a65e0b61",
   "metadata": {},
   "outputs": [],
   "source": [
    "# This will resut into an error if file already exist\n",
    "df_hisp_pop_pivot_table.to_excel('pivot_table.xlsx')"
   ]
  }
 ],
 "metadata": {
  "kernelspec": {
   "display_name": "Python 3 (ipykernel)",
   "language": "python",
   "name": "python3"
  },
  "language_info": {
   "codemirror_mode": {
    "name": "ipython",
    "version": 3
   },
   "file_extension": ".py",
   "mimetype": "text/x-python",
   "name": "python",
   "nbconvert_exporter": "python",
   "pygments_lexer": "ipython3",
   "version": "3.9.7"
  }
 },
 "nbformat": 4,
 "nbformat_minor": 5
}
